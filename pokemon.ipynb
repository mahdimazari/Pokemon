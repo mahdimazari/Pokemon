{
  "nbformat": 4,
  "nbformat_minor": 0,
  "metadata": {
    "colab": {
      "name": "pokemon.ipynb",
      "provenance": [],
      "collapsed_sections": [],
      "authorship_tag": "ABX9TyPbeIJhfgrhOuHakuwmgJFQ",
      "include_colab_link": true
    },
    "kernelspec": {
      "name": "python3",
      "display_name": "Python 3"
    }
  },
  "cells": [
    {
      "cell_type": "markdown",
      "metadata": {
        "id": "view-in-github",
        "colab_type": "text"
      },
      "source": [
        "<a href=\"https://colab.research.google.com/github/mahdimazari/Pokemon/blob/main/pokemon.ipynb\" target=\"_parent\"><img src=\"https://colab.research.google.com/assets/colab-badge.svg\" alt=\"Open In Colab\"/></a>"
      ]
    },
    {
      "cell_type": "code",
      "metadata": {
        "id": "XMTYf0Xn3Yxj",
        "colab": {
          "base_uri": "https://localhost:8080/",
          "height": 339
        },
        "outputId": "74d4f706-0a91-4abf-cd45-91b01c773945"
      },
      "source": [
        "import pandas as pd\n",
        "df = pd.read_csv('https://raw.githubusercontent.com/anisayari/Youtube-apprendre-python-intelligence-artificielle/master/%238%20-%20Data%20Visualisation%20(Seaborn%2C%20Plotly)/pokemon.csv')\n",
        "df.head()"
      ],
      "execution_count": null,
      "outputs": [
        {
          "output_type": "execute_result",
          "data": {
            "text/html": [
              "<div>\n",
              "<style scoped>\n",
              "    .dataframe tbody tr th:only-of-type {\n",
              "        vertical-align: middle;\n",
              "    }\n",
              "\n",
              "    .dataframe tbody tr th {\n",
              "        vertical-align: top;\n",
              "    }\n",
              "\n",
              "    .dataframe thead th {\n",
              "        text-align: right;\n",
              "    }\n",
              "</style>\n",
              "<table border=\"1\" class=\"dataframe\">\n",
              "  <thead>\n",
              "    <tr style=\"text-align: right;\">\n",
              "      <th></th>\n",
              "      <th>abilities</th>\n",
              "      <th>against_bug</th>\n",
              "      <th>against_dark</th>\n",
              "      <th>against_dragon</th>\n",
              "      <th>against_electric</th>\n",
              "      <th>against_fairy</th>\n",
              "      <th>against_fight</th>\n",
              "      <th>against_fire</th>\n",
              "      <th>against_flying</th>\n",
              "      <th>against_ghost</th>\n",
              "      <th>against_grass</th>\n",
              "      <th>against_ground</th>\n",
              "      <th>against_ice</th>\n",
              "      <th>against_normal</th>\n",
              "      <th>against_poison</th>\n",
              "      <th>against_psychic</th>\n",
              "      <th>against_rock</th>\n",
              "      <th>against_steel</th>\n",
              "      <th>against_water</th>\n",
              "      <th>attack</th>\n",
              "      <th>base_egg_steps</th>\n",
              "      <th>base_happiness</th>\n",
              "      <th>base_total</th>\n",
              "      <th>capture_rate</th>\n",
              "      <th>classfication</th>\n",
              "      <th>defense</th>\n",
              "      <th>experience_growth</th>\n",
              "      <th>height_m</th>\n",
              "      <th>hp</th>\n",
              "      <th>japanese_name</th>\n",
              "      <th>name</th>\n",
              "      <th>percentage_male</th>\n",
              "      <th>pokedex_number</th>\n",
              "      <th>sp_attack</th>\n",
              "      <th>sp_defense</th>\n",
              "      <th>speed</th>\n",
              "      <th>type1</th>\n",
              "      <th>type2</th>\n",
              "      <th>weight_kg</th>\n",
              "      <th>generation</th>\n",
              "      <th>is_legendary</th>\n",
              "    </tr>\n",
              "  </thead>\n",
              "  <tbody>\n",
              "    <tr>\n",
              "      <th>0</th>\n",
              "      <td>['Overgrow', 'Chlorophyll']</td>\n",
              "      <td>1.0</td>\n",
              "      <td>1.0</td>\n",
              "      <td>1.0</td>\n",
              "      <td>0.5</td>\n",
              "      <td>0.5</td>\n",
              "      <td>0.5</td>\n",
              "      <td>2.0</td>\n",
              "      <td>2.0</td>\n",
              "      <td>1.0</td>\n",
              "      <td>0.25</td>\n",
              "      <td>1.0</td>\n",
              "      <td>2.0</td>\n",
              "      <td>1.0</td>\n",
              "      <td>1.0</td>\n",
              "      <td>2.0</td>\n",
              "      <td>1.0</td>\n",
              "      <td>1.0</td>\n",
              "      <td>0.5</td>\n",
              "      <td>49</td>\n",
              "      <td>5120</td>\n",
              "      <td>70</td>\n",
              "      <td>318</td>\n",
              "      <td>45</td>\n",
              "      <td>Seed Pokémon</td>\n",
              "      <td>49</td>\n",
              "      <td>1059860</td>\n",
              "      <td>0.7</td>\n",
              "      <td>45</td>\n",
              "      <td>Fushigidaneフシギダネ</td>\n",
              "      <td>Bulbasaur</td>\n",
              "      <td>88.1</td>\n",
              "      <td>1</td>\n",
              "      <td>65</td>\n",
              "      <td>65</td>\n",
              "      <td>45</td>\n",
              "      <td>grass</td>\n",
              "      <td>poison</td>\n",
              "      <td>6.9</td>\n",
              "      <td>1</td>\n",
              "      <td>0</td>\n",
              "    </tr>\n",
              "    <tr>\n",
              "      <th>1</th>\n",
              "      <td>['Overgrow', 'Chlorophyll']</td>\n",
              "      <td>1.0</td>\n",
              "      <td>1.0</td>\n",
              "      <td>1.0</td>\n",
              "      <td>0.5</td>\n",
              "      <td>0.5</td>\n",
              "      <td>0.5</td>\n",
              "      <td>2.0</td>\n",
              "      <td>2.0</td>\n",
              "      <td>1.0</td>\n",
              "      <td>0.25</td>\n",
              "      <td>1.0</td>\n",
              "      <td>2.0</td>\n",
              "      <td>1.0</td>\n",
              "      <td>1.0</td>\n",
              "      <td>2.0</td>\n",
              "      <td>1.0</td>\n",
              "      <td>1.0</td>\n",
              "      <td>0.5</td>\n",
              "      <td>62</td>\n",
              "      <td>5120</td>\n",
              "      <td>70</td>\n",
              "      <td>405</td>\n",
              "      <td>45</td>\n",
              "      <td>Seed Pokémon</td>\n",
              "      <td>63</td>\n",
              "      <td>1059860</td>\n",
              "      <td>1.0</td>\n",
              "      <td>60</td>\n",
              "      <td>Fushigisouフシギソウ</td>\n",
              "      <td>Ivysaur</td>\n",
              "      <td>88.1</td>\n",
              "      <td>2</td>\n",
              "      <td>80</td>\n",
              "      <td>80</td>\n",
              "      <td>60</td>\n",
              "      <td>grass</td>\n",
              "      <td>poison</td>\n",
              "      <td>13.0</td>\n",
              "      <td>1</td>\n",
              "      <td>0</td>\n",
              "    </tr>\n",
              "    <tr>\n",
              "      <th>2</th>\n",
              "      <td>['Overgrow', 'Chlorophyll']</td>\n",
              "      <td>1.0</td>\n",
              "      <td>1.0</td>\n",
              "      <td>1.0</td>\n",
              "      <td>0.5</td>\n",
              "      <td>0.5</td>\n",
              "      <td>0.5</td>\n",
              "      <td>2.0</td>\n",
              "      <td>2.0</td>\n",
              "      <td>1.0</td>\n",
              "      <td>0.25</td>\n",
              "      <td>1.0</td>\n",
              "      <td>2.0</td>\n",
              "      <td>1.0</td>\n",
              "      <td>1.0</td>\n",
              "      <td>2.0</td>\n",
              "      <td>1.0</td>\n",
              "      <td>1.0</td>\n",
              "      <td>0.5</td>\n",
              "      <td>100</td>\n",
              "      <td>5120</td>\n",
              "      <td>70</td>\n",
              "      <td>625</td>\n",
              "      <td>45</td>\n",
              "      <td>Seed Pokémon</td>\n",
              "      <td>123</td>\n",
              "      <td>1059860</td>\n",
              "      <td>2.0</td>\n",
              "      <td>80</td>\n",
              "      <td>Fushigibanaフシギバナ</td>\n",
              "      <td>Venusaur</td>\n",
              "      <td>88.1</td>\n",
              "      <td>3</td>\n",
              "      <td>122</td>\n",
              "      <td>120</td>\n",
              "      <td>80</td>\n",
              "      <td>grass</td>\n",
              "      <td>poison</td>\n",
              "      <td>100.0</td>\n",
              "      <td>1</td>\n",
              "      <td>0</td>\n",
              "    </tr>\n",
              "    <tr>\n",
              "      <th>3</th>\n",
              "      <td>['Blaze', 'Solar Power']</td>\n",
              "      <td>0.5</td>\n",
              "      <td>1.0</td>\n",
              "      <td>1.0</td>\n",
              "      <td>1.0</td>\n",
              "      <td>0.5</td>\n",
              "      <td>1.0</td>\n",
              "      <td>0.5</td>\n",
              "      <td>1.0</td>\n",
              "      <td>1.0</td>\n",
              "      <td>0.50</td>\n",
              "      <td>2.0</td>\n",
              "      <td>0.5</td>\n",
              "      <td>1.0</td>\n",
              "      <td>1.0</td>\n",
              "      <td>1.0</td>\n",
              "      <td>2.0</td>\n",
              "      <td>0.5</td>\n",
              "      <td>2.0</td>\n",
              "      <td>52</td>\n",
              "      <td>5120</td>\n",
              "      <td>70</td>\n",
              "      <td>309</td>\n",
              "      <td>45</td>\n",
              "      <td>Lizard Pokémon</td>\n",
              "      <td>43</td>\n",
              "      <td>1059860</td>\n",
              "      <td>0.6</td>\n",
              "      <td>39</td>\n",
              "      <td>Hitokageヒトカゲ</td>\n",
              "      <td>Charmander</td>\n",
              "      <td>88.1</td>\n",
              "      <td>4</td>\n",
              "      <td>60</td>\n",
              "      <td>50</td>\n",
              "      <td>65</td>\n",
              "      <td>fire</td>\n",
              "      <td>NaN</td>\n",
              "      <td>8.5</td>\n",
              "      <td>1</td>\n",
              "      <td>0</td>\n",
              "    </tr>\n",
              "    <tr>\n",
              "      <th>4</th>\n",
              "      <td>['Blaze', 'Solar Power']</td>\n",
              "      <td>0.5</td>\n",
              "      <td>1.0</td>\n",
              "      <td>1.0</td>\n",
              "      <td>1.0</td>\n",
              "      <td>0.5</td>\n",
              "      <td>1.0</td>\n",
              "      <td>0.5</td>\n",
              "      <td>1.0</td>\n",
              "      <td>1.0</td>\n",
              "      <td>0.50</td>\n",
              "      <td>2.0</td>\n",
              "      <td>0.5</td>\n",
              "      <td>1.0</td>\n",
              "      <td>1.0</td>\n",
              "      <td>1.0</td>\n",
              "      <td>2.0</td>\n",
              "      <td>0.5</td>\n",
              "      <td>2.0</td>\n",
              "      <td>64</td>\n",
              "      <td>5120</td>\n",
              "      <td>70</td>\n",
              "      <td>405</td>\n",
              "      <td>45</td>\n",
              "      <td>Flame Pokémon</td>\n",
              "      <td>58</td>\n",
              "      <td>1059860</td>\n",
              "      <td>1.1</td>\n",
              "      <td>58</td>\n",
              "      <td>Lizardoリザード</td>\n",
              "      <td>Charmeleon</td>\n",
              "      <td>88.1</td>\n",
              "      <td>5</td>\n",
              "      <td>80</td>\n",
              "      <td>65</td>\n",
              "      <td>80</td>\n",
              "      <td>fire</td>\n",
              "      <td>NaN</td>\n",
              "      <td>19.0</td>\n",
              "      <td>1</td>\n",
              "      <td>0</td>\n",
              "    </tr>\n",
              "  </tbody>\n",
              "</table>\n",
              "</div>"
            ],
            "text/plain": [
              "                     abilities  against_bug  ...  generation  is_legendary\n",
              "0  ['Overgrow', 'Chlorophyll']          1.0  ...           1             0\n",
              "1  ['Overgrow', 'Chlorophyll']          1.0  ...           1             0\n",
              "2  ['Overgrow', 'Chlorophyll']          1.0  ...           1             0\n",
              "3     ['Blaze', 'Solar Power']          0.5  ...           1             0\n",
              "4     ['Blaze', 'Solar Power']          0.5  ...           1             0\n",
              "\n",
              "[5 rows x 41 columns]"
            ]
          },
          "metadata": {
            "tags": []
          },
          "execution_count": 33
        }
      ]
    },
    {
      "cell_type": "code",
      "metadata": {
        "id": "kRJOqCl9z5Ys",
        "colab": {
          "base_uri": "https://localhost:8080/",
          "height": 35
        },
        "outputId": "dee5f9a5-1dc9-43a6-8070-dce84b7842a6"
      },
      "source": [
        "#preparation\n",
        "df.shape"
      ],
      "execution_count": null,
      "outputs": [
        {
          "output_type": "execute_result",
          "data": {
            "text/plain": [
              "(801, 41)"
            ]
          },
          "metadata": {
            "tags": []
          },
          "execution_count": 8
        }
      ]
    },
    {
      "cell_type": "code",
      "metadata": {
        "id": "6CVjKWWx4g_q",
        "colab": {
          "base_uri": "https://localhost:8080/",
          "height": 890
        },
        "outputId": "de34a3a7-e938-4a9d-b8fa-39052efa7679"
      },
      "source": [
        "df.info()"
      ],
      "execution_count": null,
      "outputs": [
        {
          "output_type": "stream",
          "text": [
            "<class 'pandas.core.frame.DataFrame'>\n",
            "RangeIndex: 801 entries, 0 to 800\n",
            "Data columns (total 41 columns):\n",
            " #   Column             Non-Null Count  Dtype  \n",
            "---  ------             --------------  -----  \n",
            " 0   abilities          801 non-null    object \n",
            " 1   against_bug        801 non-null    float64\n",
            " 2   against_dark       801 non-null    float64\n",
            " 3   against_dragon     801 non-null    float64\n",
            " 4   against_electric   801 non-null    float64\n",
            " 5   against_fairy      801 non-null    float64\n",
            " 6   against_fight      801 non-null    float64\n",
            " 7   against_fire       801 non-null    float64\n",
            " 8   against_flying     801 non-null    float64\n",
            " 9   against_ghost      801 non-null    float64\n",
            " 10  against_grass      801 non-null    float64\n",
            " 11  against_ground     801 non-null    float64\n",
            " 12  against_ice        801 non-null    float64\n",
            " 13  against_normal     801 non-null    float64\n",
            " 14  against_poison     801 non-null    float64\n",
            " 15  against_psychic    801 non-null    float64\n",
            " 16  against_rock       801 non-null    float64\n",
            " 17  against_steel      801 non-null    float64\n",
            " 18  against_water      801 non-null    float64\n",
            " 19  attack             801 non-null    int64  \n",
            " 20  base_egg_steps     801 non-null    int64  \n",
            " 21  base_happiness     801 non-null    int64  \n",
            " 22  base_total         801 non-null    int64  \n",
            " 23  capture_rate       801 non-null    object \n",
            " 24  classfication      801 non-null    object \n",
            " 25  defense            801 non-null    int64  \n",
            " 26  experience_growth  801 non-null    int64  \n",
            " 27  height_m           781 non-null    float64\n",
            " 28  hp                 801 non-null    int64  \n",
            " 29  japanese_name      801 non-null    object \n",
            " 30  name               801 non-null    object \n",
            " 31  percentage_male    703 non-null    float64\n",
            " 32  pokedex_number     801 non-null    int64  \n",
            " 33  sp_attack          801 non-null    int64  \n",
            " 34  sp_defense         801 non-null    int64  \n",
            " 35  speed              801 non-null    int64  \n",
            " 36  type1              801 non-null    object \n",
            " 37  type2              417 non-null    object \n",
            " 38  weight_kg          781 non-null    float64\n",
            " 39  generation         801 non-null    int64  \n",
            " 40  is_legendary       801 non-null    int64  \n",
            "dtypes: float64(21), int64(13), object(7)\n",
            "memory usage: 256.7+ KB\n"
          ],
          "name": "stdout"
        }
      ]
    },
    {
      "cell_type": "code",
      "metadata": {
        "id": "zaMrv8qy4mgH",
        "colab": {
          "base_uri": "https://localhost:8080/",
          "height": 654
        },
        "outputId": "95194417-5b1c-4034-bb72-0bdd09b0efc3"
      },
      "source": [
        "df['capture_rate'].value_counts()"
      ],
      "execution_count": null,
      "outputs": [
        {
          "output_type": "execute_result",
          "data": {
            "text/plain": [
              "45                          250\n",
              "190                          75\n",
              "255                          69\n",
              "75                           61\n",
              "3                            58\n",
              "120                          55\n",
              "60                           50\n",
              "90                           38\n",
              "30                           20\n",
              "200                          19\n",
              "225                          15\n",
              "25                           13\n",
              "180                          11\n",
              "235                           7\n",
              "150                           7\n",
              "50                            7\n",
              "100                           6\n",
              "140                           6\n",
              "127                           5\n",
              "70                            4\n",
              "55                            3\n",
              "125                           3\n",
              "65                            3\n",
              "130                           2\n",
              "170                           2\n",
              "220                           2\n",
              "15                            2\n",
              "80                            2\n",
              "160                           1\n",
              "155                           1\n",
              "145                           1\n",
              "35                            1\n",
              "205                           1\n",
              "30 (Meteorite)255 (Core)      1\n",
              "Name: capture_rate, dtype: int64"
            ]
          },
          "metadata": {
            "tags": []
          },
          "execution_count": 11
        }
      ]
    },
    {
      "cell_type": "code",
      "metadata": {
        "id": "3TYFvhMV5EZ8",
        "colab": {
          "base_uri": "https://localhost:8080/",
          "height": 133
        },
        "outputId": "7c8a2c51-ee12-4a3a-aea2-f98033650b0e"
      },
      "source": [
        "df[df['capture_rate'] == '30 (Meteorite)255 (Core)']"
      ],
      "execution_count": null,
      "outputs": [
        {
          "output_type": "execute_result",
          "data": {
            "text/html": [
              "<div>\n",
              "<style scoped>\n",
              "    .dataframe tbody tr th:only-of-type {\n",
              "        vertical-align: middle;\n",
              "    }\n",
              "\n",
              "    .dataframe tbody tr th {\n",
              "        vertical-align: top;\n",
              "    }\n",
              "\n",
              "    .dataframe thead th {\n",
              "        text-align: right;\n",
              "    }\n",
              "</style>\n",
              "<table border=\"1\" class=\"dataframe\">\n",
              "  <thead>\n",
              "    <tr style=\"text-align: right;\">\n",
              "      <th></th>\n",
              "      <th>abilities</th>\n",
              "      <th>against_bug</th>\n",
              "      <th>against_dark</th>\n",
              "      <th>against_dragon</th>\n",
              "      <th>against_electric</th>\n",
              "      <th>against_fairy</th>\n",
              "      <th>against_fight</th>\n",
              "      <th>against_fire</th>\n",
              "      <th>against_flying</th>\n",
              "      <th>against_ghost</th>\n",
              "      <th>against_grass</th>\n",
              "      <th>against_ground</th>\n",
              "      <th>against_ice</th>\n",
              "      <th>against_normal</th>\n",
              "      <th>against_poison</th>\n",
              "      <th>against_psychic</th>\n",
              "      <th>against_rock</th>\n",
              "      <th>against_steel</th>\n",
              "      <th>against_water</th>\n",
              "      <th>attack</th>\n",
              "      <th>base_egg_steps</th>\n",
              "      <th>base_happiness</th>\n",
              "      <th>base_total</th>\n",
              "      <th>capture_rate</th>\n",
              "      <th>classfication</th>\n",
              "      <th>defense</th>\n",
              "      <th>experience_growth</th>\n",
              "      <th>height_m</th>\n",
              "      <th>hp</th>\n",
              "      <th>japanese_name</th>\n",
              "      <th>name</th>\n",
              "      <th>percentage_male</th>\n",
              "      <th>pokedex_number</th>\n",
              "      <th>sp_attack</th>\n",
              "      <th>sp_defense</th>\n",
              "      <th>speed</th>\n",
              "      <th>type1</th>\n",
              "      <th>type2</th>\n",
              "      <th>weight_kg</th>\n",
              "      <th>generation</th>\n",
              "      <th>is_legendary</th>\n",
              "    </tr>\n",
              "  </thead>\n",
              "  <tbody>\n",
              "    <tr>\n",
              "      <th>773</th>\n",
              "      <td>['Shields Down']</td>\n",
              "      <td>0.5</td>\n",
              "      <td>1.0</td>\n",
              "      <td>1.0</td>\n",
              "      <td>2.0</td>\n",
              "      <td>1.0</td>\n",
              "      <td>1.0</td>\n",
              "      <td>0.5</td>\n",
              "      <td>0.5</td>\n",
              "      <td>1.0</td>\n",
              "      <td>1.0</td>\n",
              "      <td>0.0</td>\n",
              "      <td>2.0</td>\n",
              "      <td>0.5</td>\n",
              "      <td>0.5</td>\n",
              "      <td>1.0</td>\n",
              "      <td>2.0</td>\n",
              "      <td>2.0</td>\n",
              "      <td>2.0</td>\n",
              "      <td>100</td>\n",
              "      <td>6400</td>\n",
              "      <td>70</td>\n",
              "      <td>500</td>\n",
              "      <td>30 (Meteorite)255 (Core)</td>\n",
              "      <td>Meteor Pokémon</td>\n",
              "      <td>60</td>\n",
              "      <td>1059860</td>\n",
              "      <td>0.3</td>\n",
              "      <td>60</td>\n",
              "      <td>Metenoメテノ</td>\n",
              "      <td>Minior</td>\n",
              "      <td>NaN</td>\n",
              "      <td>774</td>\n",
              "      <td>100</td>\n",
              "      <td>60</td>\n",
              "      <td>120</td>\n",
              "      <td>rock</td>\n",
              "      <td>flying</td>\n",
              "      <td>40.0</td>\n",
              "      <td>7</td>\n",
              "      <td>0</td>\n",
              "    </tr>\n",
              "  </tbody>\n",
              "</table>\n",
              "</div>"
            ],
            "text/plain": [
              "            abilities  against_bug  ...  generation  is_legendary\n",
              "773  ['Shields Down']          0.5  ...           7             0\n",
              "\n",
              "[1 rows x 41 columns]"
            ]
          },
          "metadata": {
            "tags": []
          },
          "execution_count": 12
        }
      ]
    },
    {
      "cell_type": "code",
      "metadata": {
        "id": "idW7vqtF5P02",
        "colab": {
          "base_uri": "https://localhost:8080/",
          "height": 115
        },
        "outputId": "ed66f2ab-f405-4ed4-cd1d-e6898d7df01a"
      },
      "source": [
        "df.loc[773, 'capture_rate'] = 30\n",
        "df['capture_rate'] = df['capture_rate'].astype(int)\n",
        "df[df['name'] == 'Minior']"
      ],
      "execution_count": null,
      "outputs": [
        {
          "output_type": "execute_result",
          "data": {
            "text/html": [
              "<div>\n",
              "<style scoped>\n",
              "    .dataframe tbody tr th:only-of-type {\n",
              "        vertical-align: middle;\n",
              "    }\n",
              "\n",
              "    .dataframe tbody tr th {\n",
              "        vertical-align: top;\n",
              "    }\n",
              "\n",
              "    .dataframe thead th {\n",
              "        text-align: right;\n",
              "    }\n",
              "</style>\n",
              "<table border=\"1\" class=\"dataframe\">\n",
              "  <thead>\n",
              "    <tr style=\"text-align: right;\">\n",
              "      <th></th>\n",
              "      <th>abilities</th>\n",
              "      <th>against_bug</th>\n",
              "      <th>against_dark</th>\n",
              "      <th>against_dragon</th>\n",
              "      <th>against_electric</th>\n",
              "      <th>against_fairy</th>\n",
              "      <th>against_fight</th>\n",
              "      <th>against_fire</th>\n",
              "      <th>against_flying</th>\n",
              "      <th>against_ghost</th>\n",
              "      <th>against_grass</th>\n",
              "      <th>against_ground</th>\n",
              "      <th>against_ice</th>\n",
              "      <th>against_normal</th>\n",
              "      <th>against_poison</th>\n",
              "      <th>against_psychic</th>\n",
              "      <th>against_rock</th>\n",
              "      <th>against_steel</th>\n",
              "      <th>against_water</th>\n",
              "      <th>attack</th>\n",
              "      <th>base_egg_steps</th>\n",
              "      <th>base_happiness</th>\n",
              "      <th>base_total</th>\n",
              "      <th>capture_rate</th>\n",
              "      <th>classfication</th>\n",
              "      <th>defense</th>\n",
              "      <th>experience_growth</th>\n",
              "      <th>height_m</th>\n",
              "      <th>hp</th>\n",
              "      <th>japanese_name</th>\n",
              "      <th>name</th>\n",
              "      <th>percentage_male</th>\n",
              "      <th>pokedex_number</th>\n",
              "      <th>sp_attack</th>\n",
              "      <th>sp_defense</th>\n",
              "      <th>speed</th>\n",
              "      <th>type1</th>\n",
              "      <th>type2</th>\n",
              "      <th>weight_kg</th>\n",
              "      <th>generation</th>\n",
              "      <th>is_legendary</th>\n",
              "    </tr>\n",
              "  </thead>\n",
              "  <tbody>\n",
              "    <tr>\n",
              "      <th>773</th>\n",
              "      <td>['Shields Down']</td>\n",
              "      <td>0.5</td>\n",
              "      <td>1.0</td>\n",
              "      <td>1.0</td>\n",
              "      <td>2.0</td>\n",
              "      <td>1.0</td>\n",
              "      <td>1.0</td>\n",
              "      <td>0.5</td>\n",
              "      <td>0.5</td>\n",
              "      <td>1.0</td>\n",
              "      <td>1.0</td>\n",
              "      <td>0.0</td>\n",
              "      <td>2.0</td>\n",
              "      <td>0.5</td>\n",
              "      <td>0.5</td>\n",
              "      <td>1.0</td>\n",
              "      <td>2.0</td>\n",
              "      <td>2.0</td>\n",
              "      <td>2.0</td>\n",
              "      <td>100</td>\n",
              "      <td>6400</td>\n",
              "      <td>70</td>\n",
              "      <td>500</td>\n",
              "      <td>30</td>\n",
              "      <td>Meteor Pokémon</td>\n",
              "      <td>60</td>\n",
              "      <td>1059860</td>\n",
              "      <td>0.3</td>\n",
              "      <td>60</td>\n",
              "      <td>Metenoメテノ</td>\n",
              "      <td>Minior</td>\n",
              "      <td>NaN</td>\n",
              "      <td>774</td>\n",
              "      <td>100</td>\n",
              "      <td>60</td>\n",
              "      <td>120</td>\n",
              "      <td>rock</td>\n",
              "      <td>flying</td>\n",
              "      <td>40.0</td>\n",
              "      <td>7</td>\n",
              "      <td>0</td>\n",
              "    </tr>\n",
              "  </tbody>\n",
              "</table>\n",
              "</div>"
            ],
            "text/plain": [
              "            abilities  against_bug  ...  generation  is_legendary\n",
              "773  ['Shields Down']          0.5  ...           7             0\n",
              "\n",
              "[1 rows x 41 columns]"
            ]
          },
          "metadata": {
            "tags": []
          },
          "execution_count": 37
        }
      ]
    },
    {
      "cell_type": "code",
      "metadata": {
        "id": "XgBadTo_8PBy",
        "colab": {
          "base_uri": "https://localhost:8080/",
          "height": 308
        },
        "outputId": "e5389c46-d22e-4db7-a0b9-f08cbf1deb89"
      },
      "source": [
        "df.describe()"
      ],
      "execution_count": null,
      "outputs": [
        {
          "output_type": "execute_result",
          "data": {
            "text/html": [
              "<div>\n",
              "<style scoped>\n",
              "    .dataframe tbody tr th:only-of-type {\n",
              "        vertical-align: middle;\n",
              "    }\n",
              "\n",
              "    .dataframe tbody tr th {\n",
              "        vertical-align: top;\n",
              "    }\n",
              "\n",
              "    .dataframe thead th {\n",
              "        text-align: right;\n",
              "    }\n",
              "</style>\n",
              "<table border=\"1\" class=\"dataframe\">\n",
              "  <thead>\n",
              "    <tr style=\"text-align: right;\">\n",
              "      <th></th>\n",
              "      <th>against_bug</th>\n",
              "      <th>against_dark</th>\n",
              "      <th>against_dragon</th>\n",
              "      <th>against_electric</th>\n",
              "      <th>against_fairy</th>\n",
              "      <th>against_fight</th>\n",
              "      <th>against_fire</th>\n",
              "      <th>against_flying</th>\n",
              "      <th>against_ghost</th>\n",
              "      <th>against_grass</th>\n",
              "      <th>against_ground</th>\n",
              "      <th>against_ice</th>\n",
              "      <th>against_normal</th>\n",
              "      <th>against_poison</th>\n",
              "      <th>against_psychic</th>\n",
              "      <th>against_rock</th>\n",
              "      <th>against_steel</th>\n",
              "      <th>against_water</th>\n",
              "      <th>attack</th>\n",
              "      <th>base_egg_steps</th>\n",
              "      <th>base_happiness</th>\n",
              "      <th>base_total</th>\n",
              "      <th>capture_rate</th>\n",
              "      <th>defense</th>\n",
              "      <th>experience_growth</th>\n",
              "      <th>height_m</th>\n",
              "      <th>hp</th>\n",
              "      <th>percentage_male</th>\n",
              "      <th>pokedex_number</th>\n",
              "      <th>sp_attack</th>\n",
              "      <th>sp_defense</th>\n",
              "      <th>speed</th>\n",
              "      <th>weight_kg</th>\n",
              "      <th>generation</th>\n",
              "      <th>is_legendary</th>\n",
              "    </tr>\n",
              "  </thead>\n",
              "  <tbody>\n",
              "    <tr>\n",
              "      <th>count</th>\n",
              "      <td>801.000000</td>\n",
              "      <td>801.000000</td>\n",
              "      <td>801.000000</td>\n",
              "      <td>801.000000</td>\n",
              "      <td>801.000000</td>\n",
              "      <td>801.000000</td>\n",
              "      <td>801.000000</td>\n",
              "      <td>801.000000</td>\n",
              "      <td>801.000000</td>\n",
              "      <td>801.000000</td>\n",
              "      <td>801.000000</td>\n",
              "      <td>801.000000</td>\n",
              "      <td>801.000000</td>\n",
              "      <td>801.000000</td>\n",
              "      <td>801.000000</td>\n",
              "      <td>801.000000</td>\n",
              "      <td>801.000000</td>\n",
              "      <td>801.000000</td>\n",
              "      <td>801.000000</td>\n",
              "      <td>801.000000</td>\n",
              "      <td>801.000000</td>\n",
              "      <td>801.000000</td>\n",
              "      <td>801.000000</td>\n",
              "      <td>801.000000</td>\n",
              "      <td>8.010000e+02</td>\n",
              "      <td>781.000000</td>\n",
              "      <td>801.000000</td>\n",
              "      <td>703.000000</td>\n",
              "      <td>801.000000</td>\n",
              "      <td>801.000000</td>\n",
              "      <td>801.000000</td>\n",
              "      <td>801.000000</td>\n",
              "      <td>781.000000</td>\n",
              "      <td>801.000000</td>\n",
              "      <td>801.000000</td>\n",
              "    </tr>\n",
              "    <tr>\n",
              "      <th>mean</th>\n",
              "      <td>0.996255</td>\n",
              "      <td>1.057116</td>\n",
              "      <td>0.968789</td>\n",
              "      <td>1.073970</td>\n",
              "      <td>1.068976</td>\n",
              "      <td>1.065543</td>\n",
              "      <td>1.135456</td>\n",
              "      <td>1.192884</td>\n",
              "      <td>0.985019</td>\n",
              "      <td>1.034020</td>\n",
              "      <td>1.098002</td>\n",
              "      <td>1.208177</td>\n",
              "      <td>0.887016</td>\n",
              "      <td>0.975343</td>\n",
              "      <td>1.005306</td>\n",
              "      <td>1.250312</td>\n",
              "      <td>0.983458</td>\n",
              "      <td>1.058365</td>\n",
              "      <td>77.857678</td>\n",
              "      <td>7191.011236</td>\n",
              "      <td>65.362047</td>\n",
              "      <td>428.377029</td>\n",
              "      <td>98.675406</td>\n",
              "      <td>73.008739</td>\n",
              "      <td>1.054996e+06</td>\n",
              "      <td>1.163892</td>\n",
              "      <td>68.958801</td>\n",
              "      <td>55.155761</td>\n",
              "      <td>401.000000</td>\n",
              "      <td>71.305868</td>\n",
              "      <td>70.911361</td>\n",
              "      <td>66.334582</td>\n",
              "      <td>61.378105</td>\n",
              "      <td>3.690387</td>\n",
              "      <td>0.087391</td>\n",
              "    </tr>\n",
              "    <tr>\n",
              "      <th>std</th>\n",
              "      <td>0.597248</td>\n",
              "      <td>0.438142</td>\n",
              "      <td>0.353058</td>\n",
              "      <td>0.654962</td>\n",
              "      <td>0.522167</td>\n",
              "      <td>0.717251</td>\n",
              "      <td>0.691853</td>\n",
              "      <td>0.604488</td>\n",
              "      <td>0.558256</td>\n",
              "      <td>0.788896</td>\n",
              "      <td>0.738818</td>\n",
              "      <td>0.735356</td>\n",
              "      <td>0.266106</td>\n",
              "      <td>0.549375</td>\n",
              "      <td>0.495183</td>\n",
              "      <td>0.697148</td>\n",
              "      <td>0.500117</td>\n",
              "      <td>0.606562</td>\n",
              "      <td>32.158820</td>\n",
              "      <td>6558.220422</td>\n",
              "      <td>19.598948</td>\n",
              "      <td>119.203577</td>\n",
              "      <td>76.248866</td>\n",
              "      <td>30.769159</td>\n",
              "      <td>1.602558e+05</td>\n",
              "      <td>1.080326</td>\n",
              "      <td>26.576015</td>\n",
              "      <td>20.261623</td>\n",
              "      <td>231.373075</td>\n",
              "      <td>32.353826</td>\n",
              "      <td>27.942501</td>\n",
              "      <td>28.907662</td>\n",
              "      <td>109.354766</td>\n",
              "      <td>1.930420</td>\n",
              "      <td>0.282583</td>\n",
              "    </tr>\n",
              "    <tr>\n",
              "      <th>min</th>\n",
              "      <td>0.250000</td>\n",
              "      <td>0.250000</td>\n",
              "      <td>0.000000</td>\n",
              "      <td>0.000000</td>\n",
              "      <td>0.250000</td>\n",
              "      <td>0.000000</td>\n",
              "      <td>0.250000</td>\n",
              "      <td>0.250000</td>\n",
              "      <td>0.000000</td>\n",
              "      <td>0.250000</td>\n",
              "      <td>0.000000</td>\n",
              "      <td>0.250000</td>\n",
              "      <td>0.000000</td>\n",
              "      <td>0.000000</td>\n",
              "      <td>0.000000</td>\n",
              "      <td>0.250000</td>\n",
              "      <td>0.250000</td>\n",
              "      <td>0.250000</td>\n",
              "      <td>5.000000</td>\n",
              "      <td>1280.000000</td>\n",
              "      <td>0.000000</td>\n",
              "      <td>180.000000</td>\n",
              "      <td>3.000000</td>\n",
              "      <td>5.000000</td>\n",
              "      <td>6.000000e+05</td>\n",
              "      <td>0.100000</td>\n",
              "      <td>1.000000</td>\n",
              "      <td>0.000000</td>\n",
              "      <td>1.000000</td>\n",
              "      <td>10.000000</td>\n",
              "      <td>20.000000</td>\n",
              "      <td>5.000000</td>\n",
              "      <td>0.100000</td>\n",
              "      <td>1.000000</td>\n",
              "      <td>0.000000</td>\n",
              "    </tr>\n",
              "    <tr>\n",
              "      <th>25%</th>\n",
              "      <td>0.500000</td>\n",
              "      <td>1.000000</td>\n",
              "      <td>1.000000</td>\n",
              "      <td>0.500000</td>\n",
              "      <td>1.000000</td>\n",
              "      <td>0.500000</td>\n",
              "      <td>0.500000</td>\n",
              "      <td>1.000000</td>\n",
              "      <td>1.000000</td>\n",
              "      <td>0.500000</td>\n",
              "      <td>1.000000</td>\n",
              "      <td>0.500000</td>\n",
              "      <td>1.000000</td>\n",
              "      <td>0.500000</td>\n",
              "      <td>1.000000</td>\n",
              "      <td>1.000000</td>\n",
              "      <td>0.500000</td>\n",
              "      <td>0.500000</td>\n",
              "      <td>55.000000</td>\n",
              "      <td>5120.000000</td>\n",
              "      <td>70.000000</td>\n",
              "      <td>320.000000</td>\n",
              "      <td>45.000000</td>\n",
              "      <td>50.000000</td>\n",
              "      <td>1.000000e+06</td>\n",
              "      <td>0.600000</td>\n",
              "      <td>50.000000</td>\n",
              "      <td>50.000000</td>\n",
              "      <td>201.000000</td>\n",
              "      <td>45.000000</td>\n",
              "      <td>50.000000</td>\n",
              "      <td>45.000000</td>\n",
              "      <td>9.000000</td>\n",
              "      <td>2.000000</td>\n",
              "      <td>0.000000</td>\n",
              "    </tr>\n",
              "    <tr>\n",
              "      <th>50%</th>\n",
              "      <td>1.000000</td>\n",
              "      <td>1.000000</td>\n",
              "      <td>1.000000</td>\n",
              "      <td>1.000000</td>\n",
              "      <td>1.000000</td>\n",
              "      <td>1.000000</td>\n",
              "      <td>1.000000</td>\n",
              "      <td>1.000000</td>\n",
              "      <td>1.000000</td>\n",
              "      <td>1.000000</td>\n",
              "      <td>1.000000</td>\n",
              "      <td>1.000000</td>\n",
              "      <td>1.000000</td>\n",
              "      <td>1.000000</td>\n",
              "      <td>1.000000</td>\n",
              "      <td>1.000000</td>\n",
              "      <td>1.000000</td>\n",
              "      <td>1.000000</td>\n",
              "      <td>75.000000</td>\n",
              "      <td>5120.000000</td>\n",
              "      <td>70.000000</td>\n",
              "      <td>435.000000</td>\n",
              "      <td>60.000000</td>\n",
              "      <td>70.000000</td>\n",
              "      <td>1.000000e+06</td>\n",
              "      <td>1.000000</td>\n",
              "      <td>65.000000</td>\n",
              "      <td>50.000000</td>\n",
              "      <td>401.000000</td>\n",
              "      <td>65.000000</td>\n",
              "      <td>66.000000</td>\n",
              "      <td>65.000000</td>\n",
              "      <td>27.300000</td>\n",
              "      <td>4.000000</td>\n",
              "      <td>0.000000</td>\n",
              "    </tr>\n",
              "    <tr>\n",
              "      <th>75%</th>\n",
              "      <td>1.000000</td>\n",
              "      <td>1.000000</td>\n",
              "      <td>1.000000</td>\n",
              "      <td>1.000000</td>\n",
              "      <td>1.000000</td>\n",
              "      <td>1.000000</td>\n",
              "      <td>2.000000</td>\n",
              "      <td>1.000000</td>\n",
              "      <td>1.000000</td>\n",
              "      <td>1.000000</td>\n",
              "      <td>1.000000</td>\n",
              "      <td>2.000000</td>\n",
              "      <td>1.000000</td>\n",
              "      <td>1.000000</td>\n",
              "      <td>1.000000</td>\n",
              "      <td>2.000000</td>\n",
              "      <td>1.000000</td>\n",
              "      <td>1.000000</td>\n",
              "      <td>100.000000</td>\n",
              "      <td>6400.000000</td>\n",
              "      <td>70.000000</td>\n",
              "      <td>505.000000</td>\n",
              "      <td>170.000000</td>\n",
              "      <td>90.000000</td>\n",
              "      <td>1.059860e+06</td>\n",
              "      <td>1.500000</td>\n",
              "      <td>80.000000</td>\n",
              "      <td>50.000000</td>\n",
              "      <td>601.000000</td>\n",
              "      <td>91.000000</td>\n",
              "      <td>90.000000</td>\n",
              "      <td>85.000000</td>\n",
              "      <td>64.800000</td>\n",
              "      <td>5.000000</td>\n",
              "      <td>0.000000</td>\n",
              "    </tr>\n",
              "    <tr>\n",
              "      <th>max</th>\n",
              "      <td>4.000000</td>\n",
              "      <td>4.000000</td>\n",
              "      <td>2.000000</td>\n",
              "      <td>4.000000</td>\n",
              "      <td>4.000000</td>\n",
              "      <td>4.000000</td>\n",
              "      <td>4.000000</td>\n",
              "      <td>4.000000</td>\n",
              "      <td>4.000000</td>\n",
              "      <td>4.000000</td>\n",
              "      <td>4.000000</td>\n",
              "      <td>4.000000</td>\n",
              "      <td>1.000000</td>\n",
              "      <td>4.000000</td>\n",
              "      <td>4.000000</td>\n",
              "      <td>4.000000</td>\n",
              "      <td>4.000000</td>\n",
              "      <td>4.000000</td>\n",
              "      <td>185.000000</td>\n",
              "      <td>30720.000000</td>\n",
              "      <td>140.000000</td>\n",
              "      <td>780.000000</td>\n",
              "      <td>255.000000</td>\n",
              "      <td>230.000000</td>\n",
              "      <td>1.640000e+06</td>\n",
              "      <td>14.500000</td>\n",
              "      <td>255.000000</td>\n",
              "      <td>100.000000</td>\n",
              "      <td>801.000000</td>\n",
              "      <td>194.000000</td>\n",
              "      <td>230.000000</td>\n",
              "      <td>180.000000</td>\n",
              "      <td>999.900000</td>\n",
              "      <td>7.000000</td>\n",
              "      <td>1.000000</td>\n",
              "    </tr>\n",
              "  </tbody>\n",
              "</table>\n",
              "</div>"
            ],
            "text/plain": [
              "       against_bug  against_dark  ...  generation  is_legendary\n",
              "count   801.000000    801.000000  ...  801.000000    801.000000\n",
              "mean      0.996255      1.057116  ...    3.690387      0.087391\n",
              "std       0.597248      0.438142  ...    1.930420      0.282583\n",
              "min       0.250000      0.250000  ...    1.000000      0.000000\n",
              "25%       0.500000      1.000000  ...    2.000000      0.000000\n",
              "50%       1.000000      1.000000  ...    4.000000      0.000000\n",
              "75%       1.000000      1.000000  ...    5.000000      0.000000\n",
              "max       4.000000      4.000000  ...    7.000000      1.000000\n",
              "\n",
              "[8 rows x 35 columns]"
            ]
          },
          "metadata": {
            "tags": []
          },
          "execution_count": 38
        }
      ]
    },
    {
      "cell_type": "code",
      "metadata": {
        "id": "aOS_8kDL8mCe",
        "colab": {
          "base_uri": "https://localhost:8080/",
          "height": 199
        },
        "outputId": "85e0f4da-e3ad-4692-f0fc-ddadb9fde617"
      },
      "source": [
        "df.select_dtypes(['int64','float64']).columns"
      ],
      "execution_count": null,
      "outputs": [
        {
          "output_type": "execute_result",
          "data": {
            "text/plain": [
              "Index(['against_bug', 'against_dark', 'against_dragon', 'against_electric',\n",
              "       'against_fairy', 'against_fight', 'against_fire', 'against_flying',\n",
              "       'against_ghost', 'against_grass', 'against_ground', 'against_ice',\n",
              "       'against_normal', 'against_poison', 'against_psychic', 'against_rock',\n",
              "       'against_steel', 'against_water', 'attack', 'base_egg_steps',\n",
              "       'base_happiness', 'base_total', 'capture_rate', 'defense',\n",
              "       'experience_growth', 'height_m', 'hp', 'percentage_male',\n",
              "       'pokedex_number', 'sp_attack', 'sp_defense', 'speed', 'weight_kg',\n",
              "       'generation', 'is_legendary'],\n",
              "      dtype='object')"
            ]
          },
          "metadata": {
            "tags": []
          },
          "execution_count": 41
        }
      ]
    },
    {
      "cell_type": "code",
      "metadata": {
        "id": "1ZDThEan95yA",
        "colab": {
          "base_uri": "https://localhost:8080/",
          "height": 254
        },
        "outputId": "4af811fb-23a8-4332-d5e2-f0ace826fc59"
      },
      "source": [
        "df.select_dtypes(['object']).values"
      ],
      "execution_count": null,
      "outputs": [
        {
          "output_type": "execute_result",
          "data": {
            "text/plain": [
              "array([[\"['Overgrow', 'Chlorophyll']\", 'Seed Pokémon',\n",
              "        'Fushigidaneフシギダネ', 'Bulbasaur', 'grass', 'poison'],\n",
              "       [\"['Overgrow', 'Chlorophyll']\", 'Seed Pokémon', 'Fushigisouフシギソウ',\n",
              "        'Ivysaur', 'grass', 'poison'],\n",
              "       [\"['Overgrow', 'Chlorophyll']\", 'Seed Pokémon',\n",
              "        'Fushigibanaフシギバナ', 'Venusaur', 'grass', 'poison'],\n",
              "       ...,\n",
              "       [\"['Beast Boost']\", 'Junkivore Pokémon', 'Akuzikingアクジキング',\n",
              "        'Guzzlord', 'dark', 'dragon'],\n",
              "       [\"['Prism Armor']\", 'Prism Pokémon', 'Necrozmaネクロズマ', 'Necrozma',\n",
              "        'psychic', nan],\n",
              "       [\"['Soul-Heart']\", 'Artificial Pokémon', 'Magearnaマギアナ',\n",
              "        'Magearna', 'steel', 'fairy']], dtype=object)"
            ]
          },
          "metadata": {
            "tags": []
          },
          "execution_count": 50
        }
      ]
    },
    {
      "cell_type": "code",
      "metadata": {
        "id": "MrZCwpEB-iCq",
        "colab": {
          "base_uri": "https://localhost:8080/",
          "height": 339
        },
        "outputId": "685c0f57-84f5-4d8c-f3ae-0ab339a1d64b"
      },
      "source": [
        "df.columns = df.columns.str.upper()\n",
        "df['TYPE1'] = df['TYPE1'].str.capitalize()\n",
        "df['TYPE2'] = df['TYPE2'].str.capitalize()\n",
        "df['TYPE2'].fillna(value='None', inplace=True)\n",
        "df.head()"
      ],
      "execution_count": null,
      "outputs": [
        {
          "output_type": "execute_result",
          "data": {
            "text/html": [
              "<div>\n",
              "<style scoped>\n",
              "    .dataframe tbody tr th:only-of-type {\n",
              "        vertical-align: middle;\n",
              "    }\n",
              "\n",
              "    .dataframe tbody tr th {\n",
              "        vertical-align: top;\n",
              "    }\n",
              "\n",
              "    .dataframe thead th {\n",
              "        text-align: right;\n",
              "    }\n",
              "</style>\n",
              "<table border=\"1\" class=\"dataframe\">\n",
              "  <thead>\n",
              "    <tr style=\"text-align: right;\">\n",
              "      <th></th>\n",
              "      <th>ABILITIES</th>\n",
              "      <th>AGAINST_BUG</th>\n",
              "      <th>AGAINST_DARK</th>\n",
              "      <th>AGAINST_DRAGON</th>\n",
              "      <th>AGAINST_ELECTRIC</th>\n",
              "      <th>AGAINST_FAIRY</th>\n",
              "      <th>AGAINST_FIGHT</th>\n",
              "      <th>AGAINST_FIRE</th>\n",
              "      <th>AGAINST_FLYING</th>\n",
              "      <th>AGAINST_GHOST</th>\n",
              "      <th>AGAINST_GRASS</th>\n",
              "      <th>AGAINST_GROUND</th>\n",
              "      <th>AGAINST_ICE</th>\n",
              "      <th>AGAINST_NORMAL</th>\n",
              "      <th>AGAINST_POISON</th>\n",
              "      <th>AGAINST_PSYCHIC</th>\n",
              "      <th>AGAINST_ROCK</th>\n",
              "      <th>AGAINST_STEEL</th>\n",
              "      <th>AGAINST_WATER</th>\n",
              "      <th>ATTACK</th>\n",
              "      <th>BASE_EGG_STEPS</th>\n",
              "      <th>BASE_HAPPINESS</th>\n",
              "      <th>BASE_TOTAL</th>\n",
              "      <th>CAPTURE_RATE</th>\n",
              "      <th>CLASSFICATION</th>\n",
              "      <th>DEFENSE</th>\n",
              "      <th>EXPERIENCE_GROWTH</th>\n",
              "      <th>HEIGHT_M</th>\n",
              "      <th>HP</th>\n",
              "      <th>JAPANESE_NAME</th>\n",
              "      <th>NAME</th>\n",
              "      <th>PERCENTAGE_MALE</th>\n",
              "      <th>POKEDEX_NUMBER</th>\n",
              "      <th>SP_ATTACK</th>\n",
              "      <th>SP_DEFENSE</th>\n",
              "      <th>SPEED</th>\n",
              "      <th>TYPE1</th>\n",
              "      <th>TYPE2</th>\n",
              "      <th>WEIGHT_KG</th>\n",
              "      <th>GENERATION</th>\n",
              "      <th>IS_LEGENDARY</th>\n",
              "    </tr>\n",
              "  </thead>\n",
              "  <tbody>\n",
              "    <tr>\n",
              "      <th>0</th>\n",
              "      <td>['Overgrow', 'Chlorophyll']</td>\n",
              "      <td>1.0</td>\n",
              "      <td>1.0</td>\n",
              "      <td>1.0</td>\n",
              "      <td>0.5</td>\n",
              "      <td>0.5</td>\n",
              "      <td>0.5</td>\n",
              "      <td>2.0</td>\n",
              "      <td>2.0</td>\n",
              "      <td>1.0</td>\n",
              "      <td>0.25</td>\n",
              "      <td>1.0</td>\n",
              "      <td>2.0</td>\n",
              "      <td>1.0</td>\n",
              "      <td>1.0</td>\n",
              "      <td>2.0</td>\n",
              "      <td>1.0</td>\n",
              "      <td>1.0</td>\n",
              "      <td>0.5</td>\n",
              "      <td>49</td>\n",
              "      <td>5120</td>\n",
              "      <td>70</td>\n",
              "      <td>318</td>\n",
              "      <td>45</td>\n",
              "      <td>Seed Pokémon</td>\n",
              "      <td>49</td>\n",
              "      <td>1059860</td>\n",
              "      <td>0.7</td>\n",
              "      <td>45</td>\n",
              "      <td>Fushigidaneフシギダネ</td>\n",
              "      <td>Bulbasaur</td>\n",
              "      <td>88.1</td>\n",
              "      <td>1</td>\n",
              "      <td>65</td>\n",
              "      <td>65</td>\n",
              "      <td>45</td>\n",
              "      <td>Grass</td>\n",
              "      <td>Poison</td>\n",
              "      <td>6.9</td>\n",
              "      <td>1</td>\n",
              "      <td>0</td>\n",
              "    </tr>\n",
              "    <tr>\n",
              "      <th>1</th>\n",
              "      <td>['Overgrow', 'Chlorophyll']</td>\n",
              "      <td>1.0</td>\n",
              "      <td>1.0</td>\n",
              "      <td>1.0</td>\n",
              "      <td>0.5</td>\n",
              "      <td>0.5</td>\n",
              "      <td>0.5</td>\n",
              "      <td>2.0</td>\n",
              "      <td>2.0</td>\n",
              "      <td>1.0</td>\n",
              "      <td>0.25</td>\n",
              "      <td>1.0</td>\n",
              "      <td>2.0</td>\n",
              "      <td>1.0</td>\n",
              "      <td>1.0</td>\n",
              "      <td>2.0</td>\n",
              "      <td>1.0</td>\n",
              "      <td>1.0</td>\n",
              "      <td>0.5</td>\n",
              "      <td>62</td>\n",
              "      <td>5120</td>\n",
              "      <td>70</td>\n",
              "      <td>405</td>\n",
              "      <td>45</td>\n",
              "      <td>Seed Pokémon</td>\n",
              "      <td>63</td>\n",
              "      <td>1059860</td>\n",
              "      <td>1.0</td>\n",
              "      <td>60</td>\n",
              "      <td>Fushigisouフシギソウ</td>\n",
              "      <td>Ivysaur</td>\n",
              "      <td>88.1</td>\n",
              "      <td>2</td>\n",
              "      <td>80</td>\n",
              "      <td>80</td>\n",
              "      <td>60</td>\n",
              "      <td>Grass</td>\n",
              "      <td>Poison</td>\n",
              "      <td>13.0</td>\n",
              "      <td>1</td>\n",
              "      <td>0</td>\n",
              "    </tr>\n",
              "    <tr>\n",
              "      <th>2</th>\n",
              "      <td>['Overgrow', 'Chlorophyll']</td>\n",
              "      <td>1.0</td>\n",
              "      <td>1.0</td>\n",
              "      <td>1.0</td>\n",
              "      <td>0.5</td>\n",
              "      <td>0.5</td>\n",
              "      <td>0.5</td>\n",
              "      <td>2.0</td>\n",
              "      <td>2.0</td>\n",
              "      <td>1.0</td>\n",
              "      <td>0.25</td>\n",
              "      <td>1.0</td>\n",
              "      <td>2.0</td>\n",
              "      <td>1.0</td>\n",
              "      <td>1.0</td>\n",
              "      <td>2.0</td>\n",
              "      <td>1.0</td>\n",
              "      <td>1.0</td>\n",
              "      <td>0.5</td>\n",
              "      <td>100</td>\n",
              "      <td>5120</td>\n",
              "      <td>70</td>\n",
              "      <td>625</td>\n",
              "      <td>45</td>\n",
              "      <td>Seed Pokémon</td>\n",
              "      <td>123</td>\n",
              "      <td>1059860</td>\n",
              "      <td>2.0</td>\n",
              "      <td>80</td>\n",
              "      <td>Fushigibanaフシギバナ</td>\n",
              "      <td>Venusaur</td>\n",
              "      <td>88.1</td>\n",
              "      <td>3</td>\n",
              "      <td>122</td>\n",
              "      <td>120</td>\n",
              "      <td>80</td>\n",
              "      <td>Grass</td>\n",
              "      <td>Poison</td>\n",
              "      <td>100.0</td>\n",
              "      <td>1</td>\n",
              "      <td>0</td>\n",
              "    </tr>\n",
              "    <tr>\n",
              "      <th>3</th>\n",
              "      <td>['Blaze', 'Solar Power']</td>\n",
              "      <td>0.5</td>\n",
              "      <td>1.0</td>\n",
              "      <td>1.0</td>\n",
              "      <td>1.0</td>\n",
              "      <td>0.5</td>\n",
              "      <td>1.0</td>\n",
              "      <td>0.5</td>\n",
              "      <td>1.0</td>\n",
              "      <td>1.0</td>\n",
              "      <td>0.50</td>\n",
              "      <td>2.0</td>\n",
              "      <td>0.5</td>\n",
              "      <td>1.0</td>\n",
              "      <td>1.0</td>\n",
              "      <td>1.0</td>\n",
              "      <td>2.0</td>\n",
              "      <td>0.5</td>\n",
              "      <td>2.0</td>\n",
              "      <td>52</td>\n",
              "      <td>5120</td>\n",
              "      <td>70</td>\n",
              "      <td>309</td>\n",
              "      <td>45</td>\n",
              "      <td>Lizard Pokémon</td>\n",
              "      <td>43</td>\n",
              "      <td>1059860</td>\n",
              "      <td>0.6</td>\n",
              "      <td>39</td>\n",
              "      <td>Hitokageヒトカゲ</td>\n",
              "      <td>Charmander</td>\n",
              "      <td>88.1</td>\n",
              "      <td>4</td>\n",
              "      <td>60</td>\n",
              "      <td>50</td>\n",
              "      <td>65</td>\n",
              "      <td>Fire</td>\n",
              "      <td>None</td>\n",
              "      <td>8.5</td>\n",
              "      <td>1</td>\n",
              "      <td>0</td>\n",
              "    </tr>\n",
              "    <tr>\n",
              "      <th>4</th>\n",
              "      <td>['Blaze', 'Solar Power']</td>\n",
              "      <td>0.5</td>\n",
              "      <td>1.0</td>\n",
              "      <td>1.0</td>\n",
              "      <td>1.0</td>\n",
              "      <td>0.5</td>\n",
              "      <td>1.0</td>\n",
              "      <td>0.5</td>\n",
              "      <td>1.0</td>\n",
              "      <td>1.0</td>\n",
              "      <td>0.50</td>\n",
              "      <td>2.0</td>\n",
              "      <td>0.5</td>\n",
              "      <td>1.0</td>\n",
              "      <td>1.0</td>\n",
              "      <td>1.0</td>\n",
              "      <td>2.0</td>\n",
              "      <td>0.5</td>\n",
              "      <td>2.0</td>\n",
              "      <td>64</td>\n",
              "      <td>5120</td>\n",
              "      <td>70</td>\n",
              "      <td>405</td>\n",
              "      <td>45</td>\n",
              "      <td>Flame Pokémon</td>\n",
              "      <td>58</td>\n",
              "      <td>1059860</td>\n",
              "      <td>1.1</td>\n",
              "      <td>58</td>\n",
              "      <td>Lizardoリザード</td>\n",
              "      <td>Charmeleon</td>\n",
              "      <td>88.1</td>\n",
              "      <td>5</td>\n",
              "      <td>80</td>\n",
              "      <td>65</td>\n",
              "      <td>80</td>\n",
              "      <td>Fire</td>\n",
              "      <td>None</td>\n",
              "      <td>19.0</td>\n",
              "      <td>1</td>\n",
              "      <td>0</td>\n",
              "    </tr>\n",
              "  </tbody>\n",
              "</table>\n",
              "</div>"
            ],
            "text/plain": [
              "                     ABILITIES  AGAINST_BUG  ...  GENERATION  IS_LEGENDARY\n",
              "0  ['Overgrow', 'Chlorophyll']          1.0  ...           1             0\n",
              "1  ['Overgrow', 'Chlorophyll']          1.0  ...           1             0\n",
              "2  ['Overgrow', 'Chlorophyll']          1.0  ...           1             0\n",
              "3     ['Blaze', 'Solar Power']          0.5  ...           1             0\n",
              "4     ['Blaze', 'Solar Power']          0.5  ...           1             0\n",
              "\n",
              "[5 rows x 41 columns]"
            ]
          },
          "metadata": {
            "tags": []
          },
          "execution_count": 70
        }
      ]
    },
    {
      "cell_type": "code",
      "metadata": {
        "id": "a_NiAVzp-4lM",
        "colab": {
          "base_uri": "https://localhost:8080/",
          "height": 303
        },
        "outputId": "33935302-f1c6-404e-846c-957a74ec18d0"
      },
      "source": [
        "#Vizualisation\n",
        "import seaborn as sns\n",
        "import matplotlib.pyplot as plt\n",
        "sns.set(style='whitegrid')\n",
        "sns.lineplot(x='ATTACK', y='DEFENSE', data=df.sort_values(by='ATTACK'))"
      ],
      "execution_count": null,
      "outputs": [
        {
          "output_type": "execute_result",
          "data": {
            "text/plain": [
              "<matplotlib.axes._subplots.AxesSubplot at 0x7f5481c2d5f8>"
            ]
          },
          "metadata": {
            "tags": []
          },
          "execution_count": 78
        },
        {
          "output_type": "display_data",
          "data": {
            "image/png": "[encoded data removed]",
            "text/plain": [
              "<Figure size 432x288 with 1 Axes>"
            ]
          },
          "metadata": {
            "tags": []
          }
        }
      ]
    },
    {
      "cell_type": "code",
      "metadata": {
        "id": "YF-ZgEhGNT3u"
      },
      "source": [
        "#correlation\n",
        "#df.corr()"
      ],
      "execution_count": null,
      "outputs": []
    },
    {
      "cell_type": "code",
      "metadata": {
        "id": "o_7lgaqjNayp",
        "colab": {
          "base_uri": "https://localhost:8080/",
          "height": 731
        },
        "outputId": "91071181-381c-46b3-b629-005414e9a95a"
      },
      "source": [
        "plt.figure(figsize=(15, 10))\n",
        "sns.heatmap(df.corr(),cmap=sns.color_palette(\"RdBu_r\",7))\n"
      ],
      "execution_count": null,
      "outputs": [
        {
          "output_type": "execute_result",
          "data": {
            "text/plain": [
              "<matplotlib.axes._subplots.AxesSubplot at 0x7f54822ea2e8>"
            ]
          },
          "metadata": {
            "tags": []
          },
          "execution_count": 85
        },
        {
          "output_type": "display_data",
          "data": {
            "image/png": "[encoded data removed]",
            "text/plain": [
              "<Figure size 1080x720 with 2 Axes>"
            ]
          },
          "metadata": {
            "tags": []
          }
        }
      ]
    },
    {
      "cell_type": "code",
      "metadata": {
        "id": "xney4qP7SBFS",
        "colab": {
          "base_uri": "https://localhost:8080/",
          "height": 629
        },
        "outputId": "41694925-c249-4725-c3b0-c3459e318a7c"
      },
      "source": [
        "plt.figure(figsize=(20, 10))\n",
        "\n",
        "sns.heatmap(\n",
        "    df[df['TYPE2']!='None'].groupby(['TYPE1', 'TYPE2']).size().unstack(),\n",
        "    linewidths=1,    \n",
        "    annot=True, cmap=sns.color_palette(\"RdBu_r\", 7)\n",
        ")"
      ],
      "execution_count": null,
      "outputs": [
        {
          "output_type": "execute_result",
          "data": {
            "text/plain": [
              "<matplotlib.axes._subplots.AxesSubplot at 0x7f547d15c5c0>"
            ]
          },
          "metadata": {
            "tags": []
          },
          "execution_count": 104
        },
        {
          "output_type": "display_data",
          "data": {
            "image/png": "[encoded data removed]",
            "text/plain": [
              "<Figure size 1440x720 with 2 Axes>"
            ]
          },
          "metadata": {
            "tags": []
          }
        }
      ]
    },
    {
      "cell_type": "code",
      "metadata": {
        "id": "lKC1EPtXSckn",
        "colab": {
          "base_uri": "https://localhost:8080/",
          "height": 474
        },
        "outputId": "e7464fe0-8e42-4cd5-a808-cb019466e1b7"
      },
      "source": [
        "\n",
        "plt.figure(figsize=(20, 20))\n",
        "# Plot miles per gallon against horsepower with other semantics\n",
        "sns.relplot(x=\"DEFENSE\", y=\"ATTACK\", hue=\"GENERATION\", size=\"WEIGHT_KG\",\n",
        "            sizes=(50, 500), alpha=.5, palette=\"muted\",\n",
        "            height=6, data=df[df['GENERATION'].isin((1,7))])"
      ],
      "execution_count": null,
      "outputs": [
        {
          "output_type": "execute_result",
          "data": {
            "text/plain": [
              "<seaborn.axisgrid.FacetGrid at 0x7f547cdd4e80>"
            ]
          },
          "metadata": {
            "tags": []
          },
          "execution_count": 108
        },
        {
          "output_type": "display_data",
          "data": {
            "text/plain": [
              "<Figure size 1440x1440 with 0 Axes>"
            ]
          },
          "metadata": {
            "tags": []
          }
        },
        {
          "output_type": "display_data",
          "data": {
            "image/png": "[encoded data removed]",
            "text/plain": [
              "<Figure size 542.975x432 with 1 Axes>"
            ]
          },
          "metadata": {
            "tags": []
          }
        }
      ]
    },
    {
      "cell_type": "code",
      "metadata": {
        "id": "viJtM-PObhBX",
        "colab": {
          "base_uri": "https://localhost:8080/",
          "height": 303
        },
        "outputId": "7f93b40b-a2d0-499b-e220-a3324b0d73a7"
      },
      "source": [
        "sns.boxplot(x=\"GENERATION\", y=\"WEIGHT_KG\", data=df,\n",
        "            hue=\"IS_LEGENDARY\", palette=\"vlag\")"
      ],
      "execution_count": null,
      "outputs": [
        {
          "output_type": "execute_result",
          "data": {
            "text/plain": [
              "<matplotlib.axes._subplots.AxesSubplot at 0x7f547cb626d8>"
            ]
          },
          "metadata": {
            "tags": []
          },
          "execution_count": 111
        },
        {
          "output_type": "display_data",
          "data": {
            "image/png": "[encoded data removed]",
            "text/plain": [
              "<Figure size 432x288 with 1 Axes>"
            ]
          },
          "metadata": {
            "tags": []
          }
        }
      ]
    },
    {
      "cell_type": "code",
      "metadata": {
        "id": "ZnlII2M0dLOF",
        "colab": {
          "base_uri": "https://localhost:8080/",
          "height": 115
        },
        "outputId": "29a6d690-01a0-484b-d1da-c3fe78d9f4e5"
      },
      "source": [
        "df[(df['GENERATION'] == 3) & (df['WEIGHT_KG'] > 800) & (df['IS_LEGENDARY'] == 1)] "
      ],
      "execution_count": null,
      "outputs": [
        {
          "output_type": "execute_result",
          "data": {
            "text/html": [
              "<div>\n",
              "<style scoped>\n",
              "    .dataframe tbody tr th:only-of-type {\n",
              "        vertical-align: middle;\n",
              "    }\n",
              "\n",
              "    .dataframe tbody tr th {\n",
              "        vertical-align: top;\n",
              "    }\n",
              "\n",
              "    .dataframe thead th {\n",
              "        text-align: right;\n",
              "    }\n",
              "</style>\n",
              "<table border=\"1\" class=\"dataframe\">\n",
              "  <thead>\n",
              "    <tr style=\"text-align: right;\">\n",
              "      <th></th>\n",
              "      <th>ABILITIES</th>\n",
              "      <th>AGAINST_BUG</th>\n",
              "      <th>AGAINST_DARK</th>\n",
              "      <th>AGAINST_DRAGON</th>\n",
              "      <th>AGAINST_ELECTRIC</th>\n",
              "      <th>AGAINST_FAIRY</th>\n",
              "      <th>AGAINST_FIGHT</th>\n",
              "      <th>AGAINST_FIRE</th>\n",
              "      <th>AGAINST_FLYING</th>\n",
              "      <th>AGAINST_GHOST</th>\n",
              "      <th>AGAINST_GRASS</th>\n",
              "      <th>AGAINST_GROUND</th>\n",
              "      <th>AGAINST_ICE</th>\n",
              "      <th>AGAINST_NORMAL</th>\n",
              "      <th>AGAINST_POISON</th>\n",
              "      <th>AGAINST_PSYCHIC</th>\n",
              "      <th>AGAINST_ROCK</th>\n",
              "      <th>AGAINST_STEEL</th>\n",
              "      <th>AGAINST_WATER</th>\n",
              "      <th>ATTACK</th>\n",
              "      <th>BASE_EGG_STEPS</th>\n",
              "      <th>BASE_HAPPINESS</th>\n",
              "      <th>BASE_TOTAL</th>\n",
              "      <th>CAPTURE_RATE</th>\n",
              "      <th>CLASSFICATION</th>\n",
              "      <th>DEFENSE</th>\n",
              "      <th>EXPERIENCE_GROWTH</th>\n",
              "      <th>HEIGHT_M</th>\n",
              "      <th>HP</th>\n",
              "      <th>JAPANESE_NAME</th>\n",
              "      <th>NAME</th>\n",
              "      <th>PERCENTAGE_MALE</th>\n",
              "      <th>POKEDEX_NUMBER</th>\n",
              "      <th>SP_ATTACK</th>\n",
              "      <th>SP_DEFENSE</th>\n",
              "      <th>SPEED</th>\n",
              "      <th>TYPE1</th>\n",
              "      <th>TYPE2</th>\n",
              "      <th>WEIGHT_KG</th>\n",
              "      <th>GENERATION</th>\n",
              "      <th>IS_LEGENDARY</th>\n",
              "    </tr>\n",
              "  </thead>\n",
              "  <tbody>\n",
              "    <tr>\n",
              "      <th>382</th>\n",
              "      <td>['Drought']</td>\n",
              "      <td>1.0</td>\n",
              "      <td>1.0</td>\n",
              "      <td>1.0</td>\n",
              "      <td>0.0</td>\n",
              "      <td>1.0</td>\n",
              "      <td>1.0</td>\n",
              "      <td>1.0</td>\n",
              "      <td>1.0</td>\n",
              "      <td>1.0</td>\n",
              "      <td>2.0</td>\n",
              "      <td>1.0</td>\n",
              "      <td>2.0</td>\n",
              "      <td>1.0</td>\n",
              "      <td>0.5</td>\n",
              "      <td>1.0</td>\n",
              "      <td>0.5</td>\n",
              "      <td>1.0</td>\n",
              "      <td>2.0</td>\n",
              "      <td>180</td>\n",
              "      <td>30720</td>\n",
              "      <td>0</td>\n",
              "      <td>770</td>\n",
              "      <td>3</td>\n",
              "      <td>Continent Pokémon</td>\n",
              "      <td>160</td>\n",
              "      <td>1250000</td>\n",
              "      <td>3.5</td>\n",
              "      <td>100</td>\n",
              "      <td>Groudonグラードン</td>\n",
              "      <td>Groudon</td>\n",
              "      <td>NaN</td>\n",
              "      <td>383</td>\n",
              "      <td>150</td>\n",
              "      <td>90</td>\n",
              "      <td>90</td>\n",
              "      <td>Ground</td>\n",
              "      <td>None</td>\n",
              "      <td>950.0</td>\n",
              "      <td>3</td>\n",
              "      <td>1</td>\n",
              "    </tr>\n",
              "  </tbody>\n",
              "</table>\n",
              "</div>"
            ],
            "text/plain": [
              "       ABILITIES  AGAINST_BUG  ...  GENERATION  IS_LEGENDARY\n",
              "382  ['Drought']          1.0  ...           3             1\n",
              "\n",
              "[1 rows x 41 columns]"
            ]
          },
          "metadata": {
            "tags": []
          },
          "execution_count": 122
        }
      ]
    },
    {
      "cell_type": "code",
      "metadata": {
        "id": "MShQScbLehBn",
        "colab": {
          "base_uri": "https://localhost:8080/",
          "height": 303
        },
        "outputId": "9595ba61-6b0f-42b3-87c5-808c57c69086"
      },
      "source": [
        "sns.countplot(x=\"GENERATION\", data=df)"
      ],
      "execution_count": null,
      "outputs": [
        {
          "output_type": "execute_result",
          "data": {
            "text/plain": [
              "<matplotlib.axes._subplots.AxesSubplot at 0x7f547c983fd0>"
            ]
          },
          "metadata": {
            "tags": []
          },
          "execution_count": 125
        },
        {
          "output_type": "display_data",
          "data": {
            "image/png": "[encoded data removed]",
            "text/plain": [
              "<Figure size 432x288 with 1 Axes>"
            ]
          },
          "metadata": {
            "tags": []
          }
        }
      ]
    },
    {
      "cell_type": "code",
      "metadata": {
        "id": "d4vNxRI3exZp",
        "colab": {
          "base_uri": "https://localhost:8080/",
          "height": 133
        },
        "outputId": "5ac6a0ee-bf6d-4e46-94d5-caf0a9805a3a"
      },
      "source": [
        "df[df['NAME'] == 'Charizard']"
      ],
      "execution_count": null,
      "outputs": [
        {
          "output_type": "execute_result",
          "data": {
            "text/html": [
              "<div>\n",
              "<style scoped>\n",
              "    .dataframe tbody tr th:only-of-type {\n",
              "        vertical-align: middle;\n",
              "    }\n",
              "\n",
              "    .dataframe tbody tr th {\n",
              "        vertical-align: top;\n",
              "    }\n",
              "\n",
              "    .dataframe thead th {\n",
              "        text-align: right;\n",
              "    }\n",
              "</style>\n",
              "<table border=\"1\" class=\"dataframe\">\n",
              "  <thead>\n",
              "    <tr style=\"text-align: right;\">\n",
              "      <th></th>\n",
              "      <th>ABILITIES</th>\n",
              "      <th>AGAINST_BUG</th>\n",
              "      <th>AGAINST_DARK</th>\n",
              "      <th>AGAINST_DRAGON</th>\n",
              "      <th>AGAINST_ELECTRIC</th>\n",
              "      <th>AGAINST_FAIRY</th>\n",
              "      <th>AGAINST_FIGHT</th>\n",
              "      <th>AGAINST_FIRE</th>\n",
              "      <th>AGAINST_FLYING</th>\n",
              "      <th>AGAINST_GHOST</th>\n",
              "      <th>AGAINST_GRASS</th>\n",
              "      <th>AGAINST_GROUND</th>\n",
              "      <th>AGAINST_ICE</th>\n",
              "      <th>AGAINST_NORMAL</th>\n",
              "      <th>AGAINST_POISON</th>\n",
              "      <th>AGAINST_PSYCHIC</th>\n",
              "      <th>AGAINST_ROCK</th>\n",
              "      <th>AGAINST_STEEL</th>\n",
              "      <th>AGAINST_WATER</th>\n",
              "      <th>ATTACK</th>\n",
              "      <th>BASE_EGG_STEPS</th>\n",
              "      <th>BASE_HAPPINESS</th>\n",
              "      <th>BASE_TOTAL</th>\n",
              "      <th>CAPTURE_RATE</th>\n",
              "      <th>CLASSFICATION</th>\n",
              "      <th>DEFENSE</th>\n",
              "      <th>EXPERIENCE_GROWTH</th>\n",
              "      <th>HEIGHT_M</th>\n",
              "      <th>HP</th>\n",
              "      <th>JAPANESE_NAME</th>\n",
              "      <th>NAME</th>\n",
              "      <th>PERCENTAGE_MALE</th>\n",
              "      <th>POKEDEX_NUMBER</th>\n",
              "      <th>SP_ATTACK</th>\n",
              "      <th>SP_DEFENSE</th>\n",
              "      <th>SPEED</th>\n",
              "      <th>TYPE1</th>\n",
              "      <th>TYPE2</th>\n",
              "      <th>WEIGHT_KG</th>\n",
              "      <th>GENERATION</th>\n",
              "      <th>IS_LEGENDARY</th>\n",
              "    </tr>\n",
              "  </thead>\n",
              "  <tbody>\n",
              "    <tr>\n",
              "      <th>5</th>\n",
              "      <td>['Blaze', 'Solar Power']</td>\n",
              "      <td>0.25</td>\n",
              "      <td>1.0</td>\n",
              "      <td>1.0</td>\n",
              "      <td>2.0</td>\n",
              "      <td>0.5</td>\n",
              "      <td>0.5</td>\n",
              "      <td>0.5</td>\n",
              "      <td>1.0</td>\n",
              "      <td>1.0</td>\n",
              "      <td>0.25</td>\n",
              "      <td>0.0</td>\n",
              "      <td>1.0</td>\n",
              "      <td>1.0</td>\n",
              "      <td>1.0</td>\n",
              "      <td>1.0</td>\n",
              "      <td>4.0</td>\n",
              "      <td>0.5</td>\n",
              "      <td>2.0</td>\n",
              "      <td>104</td>\n",
              "      <td>5120</td>\n",
              "      <td>70</td>\n",
              "      <td>634</td>\n",
              "      <td>45</td>\n",
              "      <td>Flame Pokémon</td>\n",
              "      <td>78</td>\n",
              "      <td>1059860</td>\n",
              "      <td>1.7</td>\n",
              "      <td>78</td>\n",
              "      <td>Lizardonリザードン</td>\n",
              "      <td>Charizard</td>\n",
              "      <td>88.1</td>\n",
              "      <td>6</td>\n",
              "      <td>159</td>\n",
              "      <td>115</td>\n",
              "      <td>100</td>\n",
              "      <td>Fire</td>\n",
              "      <td>Flying</td>\n",
              "      <td>90.5</td>\n",
              "      <td>1</td>\n",
              "      <td>0</td>\n",
              "    </tr>\n",
              "  </tbody>\n",
              "</table>\n",
              "</div>"
            ],
            "text/plain": [
              "                  ABILITIES  AGAINST_BUG  ...  GENERATION  IS_LEGENDARY\n",
              "5  ['Blaze', 'Solar Power']         0.25  ...           1             0\n",
              "\n",
              "[1 rows x 41 columns]"
            ]
          },
          "metadata": {
            "tags": []
          },
          "execution_count": 127
        }
      ]
    },
    {
      "cell_type": "code",
      "metadata": {
        "id": "Y54CnSQVgMon",
        "colab": {
          "base_uri": "https://localhost:8080/",
          "height": 781
        },
        "outputId": "f3b179e2-5902-4a4f-d276-67b2fb784839"
      },
      "source": [
        "df.loc[5]"
      ],
      "execution_count": null,
      "outputs": [
        {
          "output_type": "execute_result",
          "data": {
            "text/plain": [
              "ABILITIES            ['Blaze', 'Solar Power']\n",
              "AGAINST_BUG                              0.25\n",
              "AGAINST_DARK                                1\n",
              "AGAINST_DRAGON                              1\n",
              "AGAINST_ELECTRIC                            2\n",
              "AGAINST_FAIRY                             0.5\n",
              "AGAINST_FIGHT                             0.5\n",
              "AGAINST_FIRE                              0.5\n",
              "AGAINST_FLYING                              1\n",
              "AGAINST_GHOST                               1\n",
              "AGAINST_GRASS                            0.25\n",
              "AGAINST_GROUND                              0\n",
              "AGAINST_ICE                                 1\n",
              "AGAINST_NORMAL                              1\n",
              "AGAINST_POISON                              1\n",
              "AGAINST_PSYCHIC                             1\n",
              "AGAINST_ROCK                                4\n",
              "AGAINST_STEEL                             0.5\n",
              "AGAINST_WATER                               2\n",
              "ATTACK                                    104\n",
              "BASE_EGG_STEPS                           5120\n",
              "BASE_HAPPINESS                             70\n",
              "BASE_TOTAL                                634\n",
              "CAPTURE_RATE                               45\n",
              "CLASSFICATION                   Flame Pokémon\n",
              "DEFENSE                                    78\n",
              "EXPERIENCE_GROWTH                     1059860\n",
              "HEIGHT_M                                  1.7\n",
              "HP                                         78\n",
              "JAPANESE_NAME                   Lizardonリザードン\n",
              "NAME                                Charizard\n",
              "PERCENTAGE_MALE                          88.1\n",
              "POKEDEX_NUMBER                              6\n",
              "SP_ATTACK                                 159\n",
              "SP_DEFENSE                                115\n",
              "SPEED                                     100\n",
              "TYPE1                                    Fire\n",
              "TYPE2                                  Flying\n",
              "WEIGHT_KG                                90.5\n",
              "GENERATION                                  1\n",
              "IS_LEGENDARY                                0\n",
              "Name: 5, dtype: object"
            ]
          },
          "metadata": {
            "tags": []
          },
          "execution_count": 128
        }
      ]
    },
    {
      "cell_type": "code",
      "metadata": {
        "id": "CWeZlUbogQZ8",
        "colab": {
          "base_uri": "https://localhost:8080/",
          "height": 126
        },
        "outputId": "405cc7a0-e1d2-4131-8031-5fd266be546c"
      },
      "source": [
        "df[['ATTACK','DEFENSE','HP','SP_ATTACK','SP_DEFENSE']].loc[5]"
      ],
      "execution_count": null,
      "outputs": [
        {
          "output_type": "execute_result",
          "data": {
            "text/plain": [
              "ATTACK        104\n",
              "DEFENSE        78\n",
              "HP             78\n",
              "SP_ATTACK     159\n",
              "SP_DEFENSE    115\n",
              "Name: 5, dtype: int64"
            ]
          },
          "metadata": {
            "tags": []
          },
          "execution_count": 132
        }
      ]
    },
    {
      "cell_type": "code",
      "metadata": {
        "id": "tl9IFffvgnnD",
        "colab": {
          "base_uri": "https://localhost:8080/",
          "height": 35
        },
        "outputId": "64c6ca37-4cff-45fe-a32e-09e685d93388"
      },
      "source": [
        "df[['ATTACK','DEFENSE','HP','SP_ATTACK','SP_DEFENSE']].loc[5].to_dict()"
      ],
      "execution_count": null,
      "outputs": [
        {
          "output_type": "execute_result",
          "data": {
            "text/plain": [
              "{'ATTACK': 104, 'DEFENSE': 78, 'HP': 78, 'SP_ATTACK': 159, 'SP_DEFENSE': 115}"
            ]
          },
          "metadata": {
            "tags": []
          },
          "execution_count": 133
        }
      ]
    },
    {
      "cell_type": "code",
      "metadata": {
        "id": "TBoZ2tcaggTQ",
        "colab": {
          "base_uri": "https://localhost:8080/",
          "height": 542
        },
        "outputId": "e230c29e-599e-4c17-b714-7f875e02e6cb"
      },
      "source": [
        "import plotly.express as px\n",
        "fig = px.scatter(df, x=\"ATTACK\", y=\"DEFENSE\", \n",
        "                 size=\"IS_LEGENDARY\", hover_data=[\"GENERATION\",\"NAME\",\"HP\"] )\n",
        "fig.show()"
      ],
      "execution_count": null,
      "outputs": [
        {
          "output_type": "display_data",
          "data": {
            "text/html": [
              "<html>\n",
              "<head><meta charset=\"utf-8\" /></head>\n",
              "<body>\n",
              "    <div>\n",
              "            <script src=\"https://cdnjs.cloudflare.com/ajax/libs/mathjax/2.7.5/MathJax.js?config=TeX-AMS-MML_SVG\"></script><script type=\"text/javascript\">if (window.MathJax) {MathJax.Hub.Config({SVG: {font: \"STIX-Web\"}});}</script>\n",
              "                <script type=\"text/javascript\">window.PlotlyConfig = {MathJaxConfig: 'local'};</script>\n",
              "        <script src=\"https://cdn.plot.ly/plotly-latest.min.js\"></script>    \n",
              "            <div id=\"4cd22360-62af-4dc8-a971-c1bc282bb208\" class=\"plotly-graph-div\" style=\"height:525px; width:100%;\"></div>\n",
              "            <script type=\"text/javascript\">\n",
              "                \n",
              "                    window.PLOTLYENV=window.PLOTLYENV || {};\n",
              "                    \n",
              "                if (document.getElementById(\"4cd22360-62af-4dc8-a971-c1bc282bb208\")) {\n",
              "                    Plotly.newPlot(\n",
              "                        '4cd22360-62af-4dc8-a971-c1bc282bb208',\n",
              "                        [{\"customdata\": [[1, \"Bulbasaur\", 45], [1, \"Ivysaur\", 60], [1, \"Venusaur\", 80], [1, \"Charmander\", 39], [1, \"Charmeleon\", 58], [1, \"Charizard\", 78], [1, \"Squirtle\", 44], [1, \"Wartortle\", 59], [1, \"Blastoise\", 79], [1, \"Caterpie\", 45], [1, \"Metapod\", 50], [1, \"Butterfree\", 60], [1, \"Weedle\", 40], [1, \"Kakuna\", 45], [1, \"Beedrill\", 65], [1, \"Pidgey\", 40], [1, \"Pidgeotto\", 63], [1, \"Pidgeot\", 83], [1, \"Rattata\", 30], [1, \"Raticate\", 75], [1, \"Spearow\", 40], [1, \"Fearow\", 65], [1, \"Ekans\", 35], [1, \"Arbok\", 60], [1, \"Pikachu\", 35], [1, \"Raichu\", 60], [1, \"Sandshrew\", 50], [1, \"Sandslash\", 75], [1, \"Nidoran\\u2640\", 55], [1, \"Nidorina\", 70], [1, \"Nidoqueen\", 90], [1, \"Nidoran\\u2642\", 46], [1, \"Nidorino\", 61], [1, \"Nidoking\", 81], [1, \"Clefairy\", 70], [1, \"Clefable\", 95], [1, \"Vulpix\", 38], [1, \"Ninetales\", 73], [1, \"Jigglypuff\", 115], [1, \"Wigglytuff\", 140], [1, \"Zubat\", 40], [1, \"Golbat\", 75], [1, \"Oddish\", 45], [1, \"Gloom\", 60], [1, \"Vileplume\", 75], [1, \"Paras\", 35], [1, \"Parasect\", 60], [1, \"Venonat\", 60], [1, \"Venomoth\", 70], [1, \"Diglett\", 10], [1, \"Dugtrio\", 35], [1, \"Meowth\", 40], [1, \"Persian\", 65], [1, \"Psyduck\", 50], [1, \"Golduck\", 80], [1, \"Mankey\", 40], [1, \"Primeape\", 65], [1, \"Growlithe\", 55], [1, \"Arcanine\", 90], [1, \"Poliwag\", 40], [1, \"Poliwhirl\", 65], [1, \"Poliwrath\", 90], [1, \"Abra\", 25], [1, \"Kadabra\", 40], [1, \"Alakazam\", 55], [1, \"Machop\", 70], [1, \"Machoke\", 80], [1, \"Machamp\", 90], [1, \"Bellsprout\", 50], [1, \"Weepinbell\", 65], [1, \"Victreebel\", 80], [1, \"Tentacool\", 40], [1, \"Tentacruel\", 80], [1, \"Geodude\", 40], [1, \"Graveler\", 55], [1, \"Golem\", 80], [1, \"Ponyta\", 50], [1, \"Rapidash\", 65], [1, \"Slowpoke\", 90], [1, \"Slowbro\", 95], [1, \"Magnemite\", 25], [1, \"Magneton\", 50], [1, \"Farfetch'd\", 52], [1, \"Doduo\", 35], [1, \"Dodrio\", 60], [1, \"Seel\", 65], [1, \"Dewgong\", 90], [1, \"Grimer\", 80], [1, \"Muk\", 105], [1, \"Shellder\", 30], [1, \"Cloyster\", 50], [1, \"Gastly\", 30], [1, \"Haunter\", 45], [1, \"Gengar\", 60], [1, \"Onix\", 35], [1, \"Drowzee\", 60], [1, \"Hypno\", 85], [1, \"Krabby\", 30], [1, \"Kingler\", 55], [1, \"Voltorb\", 40], [1, \"Electrode\", 60], [1, \"Exeggcute\", 60], [1, \"Exeggutor\", 95], [1, \"Cubone\", 50], [1, \"Marowak\", 60], [1, \"Hitmonlee\", 50], [1, \"Hitmonchan\", 50], [1, \"Lickitung\", 90], [1, \"Koffing\", 40], [1, \"Weezing\", 65], [1, \"Rhyhorn\", 80], [1, \"Rhydon\", 105], [1, \"Chansey\", 250], [1, \"Tangela\", 65], [1, \"Kangaskhan\", 105], [1, \"Horsea\", 30], [1, \"Seadra\", 55], [1, \"Goldeen\", 45], [1, \"Seaking\", 80], [1, \"Staryu\", 30], [1, \"Starmie\", 60], [1, \"Mr. Mime\", 40], [1, \"Scyther\", 70], [1, \"Jynx\", 65], [1, \"Electabuzz\", 65], [1, \"Magmar\", 65], [1, \"Pinsir\", 65], [1, \"Tauros\", 75], [1, \"Magikarp\", 20], [1, \"Gyarados\", 95], [1, \"Lapras\", 130], [1, \"Ditto\", 48], [1, \"Eevee\", 55], [1, \"Vaporeon\", 130], [1, \"Jolteon\", 65], [1, \"Flareon\", 65], [1, \"Porygon\", 65], [1, \"Omanyte\", 35], [1, \"Omastar\", 70], [1, \"Kabuto\", 30], [1, \"Kabutops\", 60], [1, \"Aerodactyl\", 80], [1, \"Snorlax\", 160], [1, \"Articuno\", 90], [1, \"Zapdos\", 90], [1, \"Moltres\", 90], [1, \"Dratini\", 41], [1, \"Dragonair\", 61], [1, \"Dragonite\", 91], [1, \"Mewtwo\", 106], [1, \"Mew\", 100], [2, \"Chikorita\", 45], [2, \"Bayleef\", 60], [2, \"Meganium\", 80], [2, \"Cyndaquil\", 39], [2, \"Quilava\", 58], [2, \"Typhlosion\", 78], [2, \"Totodile\", 50], [2, \"Croconaw\", 65], [2, \"Feraligatr\", 85], [2, \"Sentret\", 35], [2, \"Furret\", 85], [2, \"Hoothoot\", 60], [2, \"Noctowl\", 100], [2, \"Ledyba\", 40], [2, \"Ledian\", 55], [2, \"Spinarak\", 40], [2, \"Ariados\", 70], [2, \"Crobat\", 85], [2, \"Chinchou\", 75], [2, \"Lanturn\", 125], [2, \"Pichu\", 20], [2, \"Cleffa\", 50], [2, \"Igglybuff\", 90], [2, \"Togepi\", 35], [2, \"Togetic\", 55], [2, \"Natu\", 40], [2, \"Xatu\", 65], [2, \"Mareep\", 55], [2, \"Flaaffy\", 70], [2, \"Ampharos\", 90], [2, \"Bellossom\", 75], [2, \"Marill\", 70], [2, \"Azumarill\", 100], [2, \"Sudowoodo\", 70], [2, \"Politoed\", 90], [2, \"Hoppip\", 35], [2, \"Skiploom\", 55], [2, \"Jumpluff\", 75], [2, \"Aipom\", 55], [2, \"Sunkern\", 30], [2, \"Sunflora\", 75], [2, \"Yanma\", 65], [2, \"Wooper\", 55], [2, \"Quagsire\", 95], [2, \"Espeon\", 65], [2, \"Umbreon\", 95], [2, \"Murkrow\", 60], [2, \"Slowking\", 95], [2, \"Misdreavus\", 60], [2, \"Unown\", 48], [2, \"Wobbuffet\", 190], [2, \"Girafarig\", 70], [2, \"Pineco\", 50], [2, \"Forretress\", 75], [2, \"Dunsparce\", 100], [2, \"Gligar\", 65], [2, \"Steelix\", 75], [2, \"Snubbull\", 60], [2, \"Granbull\", 90], [2, \"Qwilfish\", 65], [2, \"Scizor\", 70], [2, \"Shuckle\", 20], [2, \"Heracross\", 80], [2, \"Sneasel\", 55], [2, \"Teddiursa\", 60], [2, \"Ursaring\", 90], [2, \"Slugma\", 40], [2, \"Magcargo\", 60], [2, \"Swinub\", 50], [2, \"Piloswine\", 100], [2, \"Corsola\", 65], [2, \"Remoraid\", 35], [2, \"Octillery\", 75], [2, \"Delibird\", 45], [2, \"Mantine\", 85], [2, \"Skarmory\", 65], [2, \"Houndour\", 45], [2, \"Houndoom\", 75], [2, \"Kingdra\", 75], [2, \"Phanpy\", 90], [2, \"Donphan\", 90], [2, \"Porygon2\", 85], [2, \"Stantler\", 73], [2, \"Smeargle\", 55], [2, \"Tyrogue\", 35], [2, \"Hitmontop\", 50], [2, \"Smoochum\", 45], [2, \"Elekid\", 45], [2, \"Magby\", 45], [2, \"Miltank\", 95], [2, \"Blissey\", 255], [2, \"Raikou\", 90], [2, \"Entei\", 115], [2, \"Suicune\", 100], [2, \"Larvitar\", 50], [2, \"Pupitar\", 70], [2, \"Tyranitar\", 100], [2, \"Lugia\", 106], [2, \"Ho-Oh\", 106], [2, \"Celebi\", 100], [3, \"Treecko\", 40], [3, \"Grovyle\", 50], [3, \"Sceptile\", 70], [3, \"Torchic\", 45], [3, \"Combusken\", 60], [3, \"Blaziken\", 80], [3, \"Mudkip\", 50], [3, \"Marshtomp\", 70], [3, \"Swampert\", 100], [3, \"Poochyena\", 35], [3, \"Mightyena\", 70], [3, \"Zigzagoon\", 38], [3, \"Linoone\", 78], [3, \"Wurmple\", 45], [3, \"Silcoon\", 50], [3, \"Beautifly\", 60], [3, \"Cascoon\", 50], [3, \"Dustox\", 60], [3, \"Lotad\", 40], [3, \"Lombre\", 60], [3, \"Ludicolo\", 80], [3, \"Seedot\", 40], [3, \"Nuzleaf\", 70], [3, \"Shiftry\", 90], [3, \"Taillow\", 40], [3, \"Swellow\", 60], [3, \"Wingull\", 40], [3, \"Pelipper\", 60], [3, \"Ralts\", 28], [3, \"Kirlia\", 38], [3, \"Gardevoir\", 68], [3, \"Surskit\", 40], [3, \"Masquerain\", 70], [3, \"Shroomish\", 60], [3, \"Breloom\", 60], [3, \"Slakoth\", 60], [3, \"Vigoroth\", 80], [3, \"Slaking\", 150], [3, \"Nincada\", 31], [3, \"Ninjask\", 61], [3, \"Shedinja\", 1], [3, \"Whismur\", 64], [3, \"Loudred\", 84], [3, \"Exploud\", 104], [3, \"Makuhita\", 72], [3, \"Hariyama\", 144], [3, \"Azurill\", 50], [3, \"Nosepass\", 30], [3, \"Skitty\", 50], [3, \"Delcatty\", 70], [3, \"Sableye\", 50], [3, \"Mawile\", 50], [3, \"Aron\", 50], [3, \"Lairon\", 60], [3, \"Aggron\", 70], [3, \"Meditite\", 30], [3, \"Medicham\", 60], [3, \"Electrike\", 40], [3, \"Manectric\", 70], [3, \"Plusle\", 60], [3, \"Minun\", 60], [3, \"Volbeat\", 65], [3, \"Illumise\", 65], [3, \"Roselia\", 50], [3, \"Gulpin\", 70], [3, \"Swalot\", 100], [3, \"Carvanha\", 45], [3, \"Sharpedo\", 70], [3, \"Wailmer\", 130], [3, \"Wailord\", 170], [3, \"Numel\", 60], [3, \"Camerupt\", 70], [3, \"Torkoal\", 70], [3, \"Spoink\", 60], [3, \"Grumpig\", 80], [3, \"Spinda\", 60], [3, \"Trapinch\", 45], [3, \"Vibrava\", 50], [3, \"Flygon\", 80], [3, \"Cacnea\", 50], [3, \"Cacturne\", 70], [3, \"Swablu\", 45], [3, \"Altaria\", 75], [3, \"Zangoose\", 73], [3, \"Seviper\", 73], [3, \"Lunatone\", 90], [3, \"Solrock\", 90], [3, \"Barboach\", 50], [3, \"Whiscash\", 110], [3, \"Corphish\", 43], [3, \"Crawdaunt\", 63], [3, \"Baltoy\", 40], [3, \"Claydol\", 60], [3, \"Lileep\", 66], [3, \"Cradily\", 86], [3, \"Anorith\", 45], [3, \"Armaldo\", 75], [3, \"Feebas\", 20], [3, \"Milotic\", 95], [3, \"Castform\", 70], [3, \"Kecleon\", 60], [3, \"Shuppet\", 44], [3, \"Banette\", 64], [3, \"Duskull\", 20], [3, \"Dusclops\", 40], [3, \"Tropius\", 99], [3, \"Chimecho\", 75], [3, \"Absol\", 65], [3, \"Wynaut\", 95], [3, \"Snorunt\", 50], [3, \"Glalie\", 80], [3, \"Spheal\", 70], [3, \"Sealeo\", 90], [3, \"Walrein\", 110], [3, \"Clamperl\", 35], [3, \"Huntail\", 55], [3, \"Gorebyss\", 55], [3, \"Relicanth\", 100], [3, \"Luvdisc\", 43], [3, \"Bagon\", 45], [3, \"Shelgon\", 65], [3, \"Salamence\", 95], [3, \"Beldum\", 40], [3, \"Metang\", 60], [3, \"Metagross\", 80], [3, \"Regirock\", 80], [3, \"Regice\", 80], [3, \"Registeel\", 80], [3, \"Latias\", 80], [3, \"Latios\", 80], [3, \"Kyogre\", 100], [3, \"Groudon\", 100], [3, \"Rayquaza\", 105], [3, \"Jirachi\", 100], [3, \"Deoxys\", 50], [4, \"Turtwig\", 55], [4, \"Grotle\", 75], [4, \"Torterra\", 95], [4, \"Chimchar\", 44], [4, \"Monferno\", 64], [4, \"Infernape\", 76], [4, \"Piplup\", 53], [4, \"Prinplup\", 64], [4, \"Empoleon\", 84], [4, \"Starly\", 40], [4, \"Staravia\", 55], [4, \"Staraptor\", 85], [4, \"Bidoof\", 59], [4, \"Bibarel\", 79], [4, \"Kricketot\", 37], [4, \"Kricketune\", 77], [4, \"Shinx\", 45], [4, \"Luxio\", 60], [4, \"Luxray\", 80], [4, \"Budew\", 40], [4, \"Roserade\", 60], [4, \"Cranidos\", 67], [4, \"Rampardos\", 97], [4, \"Shieldon\", 30], [4, \"Bastiodon\", 60], [4, \"Burmy\", 40], [4, \"Wormadam\", 60], [4, \"Mothim\", 70], [4, \"Combee\", 30], [4, \"Vespiquen\", 70], [4, \"Pachirisu\", 60], [4, \"Buizel\", 55], [4, \"Floatzel\", 85], [4, \"Cherubi\", 45], [4, \"Cherrim\", 70], [4, \"Shellos\", 76], [4, \"Gastrodon\", 111], [4, \"Ambipom\", 75], [4, \"Drifloon\", 90], [4, \"Drifblim\", 150], [4, \"Buneary\", 55], [4, \"Lopunny\", 65], [4, \"Mismagius\", 60], [4, \"Honchkrow\", 100], [4, \"Glameow\", 49], [4, \"Purugly\", 71], [4, \"Chingling\", 45], [4, \"Stunky\", 63], [4, \"Skuntank\", 103], [4, \"Bronzor\", 57], [4, \"Bronzong\", 67], [4, \"Bonsly\", 50], [4, \"Mime Jr.\", 20], [4, \"Happiny\", 100], [4, \"Chatot\", 76], [4, \"Spiritomb\", 50], [4, \"Gible\", 58], [4, \"Gabite\", 68], [4, \"Garchomp\", 108], [4, \"Munchlax\", 135], [4, \"Riolu\", 40], [4, \"Lucario\", 70], [4, \"Hippopotas\", 68], [4, \"Hippowdon\", 108], [4, \"Skorupi\", 40], [4, \"Drapion\", 70], [4, \"Croagunk\", 48], [4, \"Toxicroak\", 83], [4, \"Carnivine\", 74], [4, \"Finneon\", 49], [4, \"Lumineon\", 69], [4, \"Mantyke\", 45], [4, \"Snover\", 60], [4, \"Abomasnow\", 90], [4, \"Weavile\", 70], [4, \"Magnezone\", 70], [4, \"Lickilicky\", 110], [4, \"Rhyperior\", 115], [4, \"Tangrowth\", 100], [4, \"Electivire\", 75], [4, \"Magmortar\", 75], [4, \"Togekiss\", 85], [4, \"Yanmega\", 86], [4, \"Leafeon\", 65], [4, \"Glaceon\", 65], [4, \"Gliscor\", 75], [4, \"Mamoswine\", 110], [4, \"Porygon-Z\", 85], [4, \"Gallade\", 68], [4, \"Probopass\", 60], [4, \"Dusknoir\", 45], [4, \"Froslass\", 70], [4, \"Rotom\", 50], [4, \"Uxie\", 75], [4, \"Mesprit\", 80], [4, \"Azelf\", 75], [4, \"Dialga\", 100], [4, \"Palkia\", 90], [4, \"Heatran\", 91], [4, \"Regigigas\", 110], [4, \"Giratina\", 150], [4, \"Cresselia\", 120], [4, \"Phione\", 80], [4, \"Manaphy\", 100], [4, \"Darkrai\", 70], [4, \"Shaymin\", 100], [4, \"Arceus\", 120], [5, \"Victini\", 100], [5, \"Snivy\", 45], [5, \"Servine\", 60], [5, \"Serperior\", 75], [5, \"Tepig\", 65], [5, \"Pignite\", 90], [5, \"Emboar\", 110], [5, \"Oshawott\", 55], [5, \"Dewott\", 75], [5, \"Samurott\", 95], [5, \"Patrat\", 45], [5, \"Watchog\", 60], [5, \"Lillipup\", 45], [5, \"Herdier\", 65], [5, \"Stoutland\", 85], [5, \"Purrloin\", 41], [5, \"Liepard\", 64], [5, \"Pansage\", 50], [5, \"Simisage\", 75], [5, \"Pansear\", 50], [5, \"Simisear\", 75], [5, \"Panpour\", 50], [5, \"Simipour\", 75], [5, \"Munna\", 76], [5, \"Musharna\", 116], [5, \"Pidove\", 50], [5, \"Tranquill\", 62], [5, \"Unfezant\", 80], [5, \"Blitzle\", 45], [5, \"Zebstrika\", 75], [5, \"Roggenrola\", 55], [5, \"Boldore\", 70], [5, \"Gigalith\", 85], [5, \"Woobat\", 65], [5, \"Swoobat\", 67], [5, \"Drilbur\", 60], [5, \"Excadrill\", 110], [5, \"Audino\", 103], [5, \"Timburr\", 75], [5, \"Gurdurr\", 85], [5, \"Conkeldurr\", 105], [5, \"Tympole\", 50], [5, \"Palpitoad\", 75], [5, \"Seismitoad\", 105], [5, \"Throh\", 120], [5, \"Sawk\", 75], [5, \"Sewaddle\", 45], [5, \"Swadloon\", 55], [5, \"Leavanny\", 75], [5, \"Venipede\", 30], [5, \"Whirlipede\", 40], [5, \"Scolipede\", 60], [5, \"Cottonee\", 40], [5, \"Whimsicott\", 60], [5, \"Petilil\", 45], [5, \"Lilligant\", 70], [5, \"Basculin\", 70], [5, \"Sandile\", 50], [5, \"Krokorok\", 60], [5, \"Krookodile\", 95], [5, \"Darumaka\", 70], [5, \"Darmanitan\", 105], [5, \"Maractus\", 75], [5, \"Dwebble\", 50], [5, \"Crustle\", 70], [5, \"Scraggy\", 50], [5, \"Scrafty\", 65], [5, \"Sigilyph\", 72], [5, \"Yamask\", 38], [5, \"Cofagrigus\", 58], [5, \"Tirtouga\", 54], [5, \"Carracosta\", 74], [5, \"Archen\", 55], [5, \"Archeops\", 75], [5, \"Trubbish\", 50], [5, \"Garbodor\", 80], [5, \"Zorua\", 40], [5, \"Zoroark\", 60], [5, \"Minccino\", 55], [5, \"Cinccino\", 75], [5, \"Gothita\", 45], [5, \"Gothorita\", 60], [5, \"Gothitelle\", 70], [5, \"Solosis\", 45], [5, \"Duosion\", 65], [5, \"Reuniclus\", 110], [5, \"Ducklett\", 62], [5, \"Swanna\", 75], [5, \"Vanillite\", 36], [5, \"Vanillish\", 51], [5, \"Vanilluxe\", 71], [5, \"Deerling\", 60], [5, \"Sawsbuck\", 80], [5, \"Emolga\", 55], [5, \"Karrablast\", 50], [5, \"Escavalier\", 70], [5, \"Foongus\", 69], [5, \"Amoonguss\", 114], [5, \"Frillish\", 55], [5, \"Jellicent\", 100], [5, \"Alomomola\", 165], [5, \"Joltik\", 50], [5, \"Galvantula\", 70], [5, \"Ferroseed\", 44], [5, \"Ferrothorn\", 74], [5, \"Klink\", 40], [5, \"Klang\", 60], [5, \"Klinklang\", 60], [5, \"Tynamo\", 35], [5, \"Eelektrik\", 65], [5, \"Eelektross\", 85], [5, \"Elgyem\", 55], [5, \"Beheeyem\", 75], [5, \"Litwick\", 50], [5, \"Lampent\", 60], [5, \"Chandelure\", 60], [5, \"Axew\", 46], [5, \"Fraxure\", 66], [5, \"Haxorus\", 76], [5, \"Cubchoo\", 55], [5, \"Beartic\", 95], [5, \"Cryogonal\", 80], [5, \"Shelmet\", 50], [5, \"Accelgor\", 80], [5, \"Stunfisk\", 109], [5, \"Mienfoo\", 45], [5, \"Mienshao\", 65], [5, \"Druddigon\", 77], [5, \"Golett\", 59], [5, \"Golurk\", 89], [5, \"Pawniard\", 45], [5, \"Bisharp\", 65], [5, \"Bouffalant\", 95], [5, \"Rufflet\", 70], [5, \"Braviary\", 100], [5, \"Vullaby\", 70], [5, \"Mandibuzz\", 110], [5, \"Heatmor\", 85], [5, \"Durant\", 58], [5, \"Deino\", 52], [5, \"Zweilous\", 72], [5, \"Hydreigon\", 92], [5, \"Larvesta\", 55], [5, \"Volcarona\", 85], [5, \"Cobalion\", 91], [5, \"Terrakion\", 91], [5, \"Virizion\", 91], [5, \"Tornadus\", 79], [5, \"Thundurus\", 79], [5, \"Reshiram\", 100], [5, \"Zekrom\", 100], [5, \"Landorus\", 89], [5, \"Kyurem\", 125], [5, \"Keldeo\", 91], [5, \"Meloetta\", 100], [5, \"Genesect\", 71], [6, \"Chespin\", 56], [6, \"Quilladin\", 61], [6, \"Chesnaught\", 88], [6, \"Fennekin\", 40], [6, \"Braixen\", 59], [6, \"Delphox\", 75], [6, \"Froakie\", 41], [6, \"Frogadier\", 54], [6, \"Greninja\", 72], [6, \"Bunnelby\", 38], [6, \"Diggersby\", 85], [6, \"Fletchling\", 45], [6, \"Fletchinder\", 62], [6, \"Talonflame\", 78], [6, \"Scatterbug\", 38], [6, \"Spewpa\", 45], [6, \"Vivillon\", 80], [6, \"Litleo\", 62], [6, \"Pyroar\", 86], [6, \"Flab\\u00e9b\\u00e9\", 44], [6, \"Floette\", 74], [6, \"Florges\", 78], [6, \"Skiddo\", 66], [6, \"Gogoat\", 123], [6, \"Pancham\", 67], [6, \"Pangoro\", 95], [6, \"Furfrou\", 75], [6, \"Espurr\", 62], [6, \"Meowstic\", 74], [6, \"Honedge\", 45], [6, \"Doublade\", 59], [6, \"Aegislash\", 60], [6, \"Spritzee\", 78], [6, \"Aromatisse\", 101], [6, \"Swirlix\", 62], [6, \"Slurpuff\", 82], [6, \"Inkay\", 53], [6, \"Malamar\", 86], [6, \"Binacle\", 42], [6, \"Barbaracle\", 72], [6, \"Skrelp\", 50], [6, \"Dragalge\", 65], [6, \"Clauncher\", 50], [6, \"Clawitzer\", 71], [6, \"Helioptile\", 44], [6, \"Heliolisk\", 62], [6, \"Tyrunt\", 58], [6, \"Tyrantrum\", 82], [6, \"Amaura\", 77], [6, \"Aurorus\", 123], [6, \"Sylveon\", 95], [6, \"Hawlucha\", 78], [6, \"Dedenne\", 67], [6, \"Carbink\", 50], [6, \"Goomy\", 45], [6, \"Sliggoo\", 68], [6, \"Goodra\", 90], [6, \"Klefki\", 57], [6, \"Phantump\", 43], [6, \"Trevenant\", 85], [6, \"Pumpkaboo\", 59], [6, \"Gourgeist\", 85], [6, \"Bergmite\", 55], [6, \"Avalugg\", 95], [6, \"Noibat\", 40], [6, \"Noivern\", 85], [6, \"Xerneas\", 126], [6, \"Yveltal\", 126], [6, \"Zygarde\", 216], [6, \"Diancie\", 50], [6, \"Hoopa\", 80], [6, \"Volcanion\", 80], [7, \"Rowlet\", 68], [7, \"Dartrix\", 78], [7, \"Decidueye\", 78], [7, \"Litten\", 45], [7, \"Torracat\", 65], [7, \"Incineroar\", 95], [7, \"Popplio\", 50], [7, \"Brionne\", 60], [7, \"Primarina\", 80], [7, \"Pikipek\", 35], [7, \"Trumbeak\", 55], [7, \"Toucannon\", 80], [7, \"Yungoos\", 48], [7, \"Gumshoos\", 88], [7, \"Grubbin\", 47], [7, \"Charjabug\", 57], [7, \"Vikavolt\", 77], [7, \"Crabrawler\", 47], [7, \"Crabominable\", 97], [7, \"Oricorio\", 75], [7, \"Cutiefly\", 40], [7, \"Ribombee\", 60], [7, \"Rockruff\", 45], [7, \"Lycanroc\", 85], [7, \"Wishiwashi\", 45], [7, \"Mareanie\", 50], [7, \"Toxapex\", 50], [7, \"Mudbray\", 70], [7, \"Mudsdale\", 100], [7, \"Dewpider\", 38], [7, \"Araquanid\", 68], [7, \"Fomantis\", 40], [7, \"Lurantis\", 70], [7, \"Morelull\", 40], [7, \"Shiinotic\", 60], [7, \"Salandit\", 48], [7, \"Salazzle\", 68], [7, \"Stufful\", 70], [7, \"Bewear\", 120], [7, \"Bounsweet\", 42], [7, \"Steenee\", 52], [7, \"Tsareena\", 72], [7, \"Comfey\", 51], [7, \"Oranguru\", 90], [7, \"Passimian\", 100], [7, \"Wimpod\", 25], [7, \"Golisopod\", 75], [7, \"Sandygast\", 55], [7, \"Palossand\", 85], [7, \"Pyukumuku\", 55], [7, \"Type: Null\", 95], [7, \"Silvally\", 95], [7, \"Minior\", 60], [7, \"Komala\", 65], [7, \"Turtonator\", 60], [7, \"Togedemaru\", 65], [7, \"Mimikyu\", 55], [7, \"Bruxish\", 68], [7, \"Drampa\", 78], [7, \"Dhelmise\", 70], [7, \"Jangmo-o\", 45], [7, \"Hakamo-o\", 55], [7, \"Kommo-o\", 75], [7, \"Tapu Koko\", 70], [7, \"Tapu Lele\", 70], [7, \"Tapu Bulu\", 70], [7, \"Tapu Fini\", 70], [7, \"Cosmog\", 43], [7, \"Cosmoem\", 43], [7, \"Solgaleo\", 137], [7, \"Lunala\", 137], [7, \"Nihilego\", 109], [7, \"Buzzwole\", 107], [7, \"Pheromosa\", 71], [7, \"Xurkitree\", 83], [7, \"Celesteela\", 97], [7, \"Kartana\", 59], [7, \"Guzzlord\", 223], [7, \"Necrozma\", 97], [7, \"Magearna\", 80]], \"hoverlabel\": {\"namelength\": 0}, \"hovertemplate\": \"ATTACK=%{x}<br>DEFENSE=%{y}<br>IS_LEGENDARY=%{marker.size}<br>GENERATION=%{customdata[0]}<br>NAME=%{customdata[1]}<br>HP=%{customdata[2]}\", \"legendgroup\": \"\", \"marker\": {\"color\": \"#636efa\", \"size\": [0, 0, 0, 0, 0, 0, 0, 0, 0, 0, 0, 0, 0, 0, 0, 0, 0, 0, 0, 0, 0, 0, 0, 0, 0, 0, 0, 0, 0, 0, 0, 0, 0, 0, 0, 0, 0, 0, 0, 0, 0, 0, 0, 0, 0, 0, 0, 0, 0, 0, 0, 0, 0, 0, 0, 0, 0, 0, 0, 0, 0, 0, 0, 0, 0, 0, 0, 0, 0, 0, 0, 0, 0, 0, 0, 0, 0, 0, 0, 0, 0, 0, 0, 0, 0, 0, 0, 0, 0, 0, 0, 0, 0, 0, 0, 0, 0, 0, 0, 0, 0, 0, 0, 0, 0, 0, 0, 0, 0, 0, 0, 0, 0, 0, 0, 0, 0, 0, 0, 0, 0, 0, 0, 0, 0, 0, 0, 0, 0, 0, 0, 0, 0, 0, 0, 0, 0, 0, 0, 0, 0, 0, 0, 1, 1, 1, 0, 0, 0, 1, 1, 0, 0, 0, 0, 0, 0, 0, 0, 0, 0, 0, 0, 0, 0, 0, 0, 0, 0, 0, 0, 0, 0, 0, 0, 0, 0, 0, 0, 0, 0, 0, 0, 0, 0, 0, 0, 0, 0, 0, 0, 0, 0, 0, 0, 0, 0, 0, 0, 0, 0, 0, 0, 0, 0, 0, 0, 0, 0, 0, 0, 0, 0, 0, 0, 0, 0, 0, 0, 0, 0, 0, 0, 0, 0, 0, 0, 0, 0, 0, 0, 0, 0, 0, 0, 0, 0, 0, 0, 0, 0, 0, 1, 1, 1, 0, 0, 0, 1, 1, 1, 0, 0, 0, 0, 0, 0, 0, 0, 0, 0, 0, 0, 0, 0, 0, 0, 0, 0, 0, 0, 0, 0, 0, 0, 0, 0, 0, 0, 0, 0, 0, 0, 0, 0, 0, 0, 0, 0, 0, 0, 0, 0, 0, 0, 0, 0, 0, 0, 0, 0, 0, 0, 0, 0, 0, 0, 0, 0, 0, 0, 0, 0, 0, 0, 0, 0, 0, 0, 0, 0, 0, 0, 0, 0, 0, 0, 0, 0, 0, 0, 0, 0, 0, 0, 0, 0, 0, 0, 0, 0, 0, 0, 0, 0, 0, 0, 0, 0, 0, 0, 0, 0, 0, 0, 0, 0, 0, 0, 0, 0, 0, 0, 0, 0, 0, 0, 0, 0, 0, 0, 0, 0, 0, 0, 0, 1, 1, 1, 1, 1, 1, 1, 1, 1, 1, 0, 0, 0, 0, 0, 0, 0, 0, 0, 0, 0, 0, 0, 0, 0, 0, 0, 0, 0, 0, 0, 0, 0, 0, 0, 0, 0, 0, 0, 0, 0, 0, 0, 0, 0, 0, 0, 0, 0, 0, 0, 0, 0, 0, 0, 0, 0, 0, 0, 0, 0, 0, 0, 0, 0, 0, 0, 0, 0, 0, 0, 0, 0, 0, 0, 0, 0, 0, 0, 0, 0, 0, 0, 0, 0, 0, 0, 0, 0, 0, 0, 0, 0, 0, 0, 0, 0, 0, 0, 0, 0, 0, 0, 1, 1, 1, 1, 1, 1, 1, 1, 1, 0, 1, 1, 1, 1, 1, 0, 0, 0, 0, 0, 0, 0, 0, 0, 0, 0, 0, 0, 0, 0, 0, 0, 0, 0, 0, 0, 0, 0, 0, 0, 0, 0, 0, 0, 0, 0, 0, 0, 0, 0, 0, 0, 0, 0, 0, 0, 0, 0, 0, 0, 0, 0, 0, 0, 0, 0, 0, 0, 0, 0, 0, 0, 0, 0, 0, 0, 0, 0, 0, 0, 0, 0, 0, 0, 0, 0, 0, 0, 0, 0, 0, 0, 0, 0, 0, 0, 0, 0, 0, 0, 0, 0, 0, 0, 0, 0, 0, 0, 0, 0, 0, 0, 0, 0, 0, 0, 0, 0, 0, 0, 0, 0, 0, 0, 0, 0, 0, 0, 0, 0, 0, 0, 0, 0, 0, 0, 0, 0, 0, 0, 0, 0, 0, 0, 0, 0, 0, 0, 0, 0, 0, 0, 0, 0, 0, 0, 0, 0, 1, 1, 1, 1, 1, 1, 1, 1, 1, 1, 1, 1, 0, 0, 0, 0, 0, 0, 0, 0, 0, 0, 0, 0, 0, 0, 0, 0, 0, 0, 0, 0, 0, 0, 0, 0, 0, 0, 0, 0, 0, 0, 0, 0, 0, 0, 0, 0, 0, 0, 0, 0, 0, 0, 0, 0, 0, 0, 0, 0, 0, 0, 0, 0, 0, 0, 0, 0, 0, 0, 0, 0, 0, 0, 0, 0, 0, 0, 1, 1, 1, 1, 1, 1, 0, 0, 0, 0, 0, 0, 0, 0, 0, 0, 0, 0, 0, 0, 0, 0, 0, 0, 0, 0, 0, 0, 0, 0, 0, 0, 0, 0, 0, 0, 0, 0, 0, 0, 0, 0, 0, 0, 0, 0, 0, 0, 0, 0, 0, 0, 0, 0, 0, 0, 0, 0, 0, 0, 0, 0, 0, 0, 0, 0, 0, 0, 0, 1, 1, 1, 1, 1, 1, 1, 1, 1, 1, 1, 1, 1, 1, 1, 1, 1], \"sizemode\": \"area\", \"sizeref\": 0.0025, \"symbol\": \"circle\"}, \"mode\": \"markers\", \"name\": \"\", \"showlegend\": false, \"type\": \"scatter\", \"x\": [49, 62, 100, 52, 64, 104, 48, 63, 103, 30, 20, 45, 35, 25, 150, 45, 60, 80, 56, 71, 60, 90, 60, 95, 55, 85, 75, 100, 47, 62, 92, 57, 72, 102, 45, 70, 41, 67, 45, 70, 45, 80, 50, 65, 80, 70, 95, 55, 65, 55, 100, 35, 60, 52, 82, 80, 105, 70, 110, 50, 65, 95, 20, 35, 50, 80, 100, 130, 75, 90, 105, 40, 70, 80, 95, 120, 85, 100, 65, 75, 35, 60, 90, 85, 110, 45, 70, 80, 105, 65, 95, 35, 50, 65, 45, 48, 73, 105, 130, 30, 50, 40, 105, 50, 80, 120, 105, 55, 65, 90, 85, 130, 5, 55, 125, 40, 65, 67, 92, 45, 75, 45, 110, 50, 83, 95, 155, 100, 10, 155, 85, 48, 55, 65, 65, 130, 60, 40, 60, 80, 115, 135, 110, 85, 90, 100, 64, 84, 134, 150, 100, 49, 62, 82, 52, 64, 84, 65, 80, 105, 46, 76, 30, 50, 20, 35, 60, 90, 90, 38, 58, 40, 25, 30, 20, 40, 50, 75, 40, 55, 95, 80, 20, 50, 100, 75, 35, 45, 55, 70, 30, 75, 65, 45, 85, 65, 65, 85, 75, 60, 72, 33, 80, 65, 90, 70, 75, 125, 80, 120, 95, 150, 10, 185, 95, 80, 130, 40, 50, 50, 100, 55, 65, 105, 55, 40, 80, 60, 90, 95, 60, 120, 80, 95, 20, 35, 95, 30, 63, 75, 80, 10, 85, 115, 75, 64, 84, 164, 90, 130, 100, 45, 65, 110, 60, 85, 160, 70, 85, 150, 55, 90, 30, 70, 45, 35, 70, 35, 50, 30, 50, 70, 40, 70, 100, 55, 85, 30, 50, 25, 35, 85, 30, 60, 40, 130, 60, 80, 160, 45, 90, 90, 51, 71, 91, 60, 120, 20, 45, 45, 65, 85, 105, 70, 90, 140, 40, 100, 45, 75, 50, 40, 73, 47, 60, 43, 73, 90, 140, 70, 90, 60, 120, 85, 25, 45, 60, 100, 70, 100, 85, 115, 40, 110, 115, 100, 55, 95, 48, 78, 80, 120, 40, 70, 41, 81, 95, 125, 15, 60, 70, 90, 75, 165, 40, 70, 68, 50, 150, 23, 50, 120, 40, 60, 80, 64, 104, 84, 90, 30, 75, 95, 145, 55, 75, 145, 100, 50, 75, 100, 130, 150, 180, 180, 100, 95, 68, 89, 109, 58, 78, 104, 51, 66, 86, 55, 75, 120, 45, 85, 25, 85, 65, 85, 120, 30, 70, 125, 165, 42, 52, 29, 69, 94, 30, 80, 45, 65, 105, 35, 60, 48, 83, 100, 50, 80, 66, 136, 60, 125, 55, 82, 30, 63, 93, 24, 89, 80, 25, 5, 65, 92, 70, 90, 170, 85, 70, 145, 72, 112, 50, 90, 61, 106, 100, 49, 69, 20, 62, 132, 120, 70, 85, 140, 100, 123, 95, 50, 76, 110, 60, 95, 130, 80, 165, 55, 100, 80, 65, 75, 105, 125, 120, 120, 90, 160, 120, 70, 80, 100, 90, 103, 120, 100, 45, 60, 75, 63, 93, 123, 55, 75, 100, 55, 85, 60, 80, 110, 50, 88, 53, 98, 53, 98, 53, 98, 25, 55, 55, 77, 115, 60, 100, 75, 105, 135, 45, 57, 85, 135, 60, 80, 105, 140, 50, 65, 95, 100, 125, 53, 63, 103, 45, 55, 100, 27, 67, 35, 60, 92, 72, 82, 117, 90, 30, 86, 65, 105, 75, 90, 58, 30, 50, 78, 108, 112, 140, 50, 95, 65, 105, 50, 95, 30, 45, 55, 30, 40, 65, 44, 87, 50, 65, 95, 60, 100, 75, 75, 135, 55, 85, 40, 60, 75, 47, 77, 50, 94, 55, 80, 100, 55, 85, 115, 55, 75, 30, 40, 55, 87, 117, 147, 70, 130, 50, 40, 70, 66, 85, 125, 120, 74, 124, 85, 125, 110, 83, 123, 55, 65, 97, 109, 65, 85, 105, 85, 60, 90, 129, 90, 100, 105, 120, 150, 145, 120, 72, 128, 120, 61, 78, 107, 45, 59, 69, 56, 63, 145, 36, 56, 50, 73, 81, 35, 22, 52, 50, 68, 38, 65, 65, 65, 100, 82, 124, 80, 48, 48, 80, 110, 150, 52, 72, 48, 80, 54, 92, 52, 105, 60, 75, 53, 73, 38, 55, 89, 121, 59, 77, 65, 92, 58, 50, 50, 75, 100, 80, 70, 110, 66, 100, 69, 117, 30, 70, 131, 131, 100, 160, 160, 110, 55, 75, 107, 65, 85, 115, 54, 69, 74, 75, 85, 120, 70, 110, 62, 82, 70, 82, 132, 70, 45, 55, 65, 115, 140, 53, 63, 100, 125, 40, 70, 55, 105, 35, 45, 44, 64, 75, 125, 30, 40, 120, 52, 60, 120, 35, 125, 55, 75, 60, 95, 95, 100, 115, 78, 98, 90, 105, 60, 131, 55, 75, 110, 115, 85, 130, 75, 29, 29, 137, 113, 53, 139, 137, 89, 101, 181, 101, 107, 95], \"xaxis\": \"x\", \"y\": [49, 63, 123, 43, 58, 78, 65, 80, 120, 35, 55, 50, 30, 50, 40, 40, 55, 80, 35, 70, 30, 65, 44, 69, 40, 50, 90, 120, 52, 67, 87, 40, 57, 77, 48, 73, 40, 75, 20, 45, 35, 70, 55, 70, 85, 55, 80, 50, 60, 30, 60, 35, 60, 48, 78, 35, 60, 45, 80, 40, 65, 95, 15, 30, 65, 50, 70, 80, 35, 50, 65, 35, 65, 100, 115, 130, 55, 70, 65, 180, 70, 95, 55, 45, 70, 55, 80, 50, 75, 100, 180, 30, 45, 80, 160, 45, 70, 90, 115, 50, 70, 80, 85, 95, 110, 53, 79, 75, 95, 120, 95, 120, 5, 115, 100, 70, 95, 60, 65, 55, 85, 65, 80, 35, 57, 57, 120, 95, 55, 109, 80, 48, 50, 60, 60, 60, 70, 100, 125, 90, 105, 85, 65, 100, 85, 90, 45, 65, 95, 70, 100, 65, 80, 100, 43, 58, 78, 64, 80, 100, 34, 64, 30, 50, 30, 50, 40, 70, 80, 38, 58, 15, 28, 15, 65, 85, 45, 70, 40, 55, 105, 95, 50, 80, 115, 75, 40, 50, 70, 55, 30, 55, 45, 45, 85, 60, 110, 42, 80, 60, 48, 58, 65, 90, 140, 70, 105, 230, 50, 75, 85, 140, 230, 115, 55, 50, 75, 40, 120, 40, 80, 95, 35, 75, 45, 70, 140, 30, 90, 95, 60, 120, 90, 62, 35, 35, 95, 15, 37, 37, 105, 10, 75, 85, 115, 50, 70, 150, 130, 90, 100, 35, 45, 75, 40, 60, 80, 50, 70, 110, 35, 70, 41, 61, 35, 55, 50, 55, 70, 30, 50, 70, 50, 40, 60, 30, 60, 30, 100, 25, 35, 65, 32, 62, 60, 80, 60, 80, 100, 90, 45, 45, 23, 43, 63, 30, 60, 40, 135, 45, 65, 125, 125, 100, 140, 230, 55, 85, 40, 80, 40, 50, 75, 75, 45, 53, 83, 20, 70, 35, 45, 40, 100, 140, 35, 65, 60, 45, 50, 80, 40, 60, 60, 110, 60, 60, 65, 85, 43, 73, 65, 85, 55, 105, 77, 97, 50, 100, 20, 79, 70, 70, 35, 75, 90, 130, 83, 80, 60, 48, 50, 80, 50, 70, 90, 85, 105, 105, 130, 55, 60, 100, 130, 80, 100, 150, 200, 100, 150, 120, 100, 90, 160, 100, 100, 90, 64, 85, 105, 44, 52, 71, 53, 68, 88, 30, 50, 70, 40, 60, 41, 51, 34, 49, 79, 35, 65, 40, 60, 118, 168, 45, 95, 50, 42, 102, 70, 35, 55, 45, 70, 48, 68, 66, 34, 44, 44, 94, 60, 52, 42, 64, 50, 47, 67, 86, 116, 95, 45, 5, 45, 108, 45, 65, 115, 40, 40, 88, 78, 118, 90, 110, 40, 65, 72, 56, 76, 50, 50, 105, 65, 115, 95, 130, 125, 67, 67, 95, 86, 130, 110, 125, 80, 70, 95, 145, 135, 70, 107, 130, 105, 70, 120, 100, 106, 110, 100, 120, 80, 100, 90, 75, 120, 100, 55, 75, 95, 45, 55, 65, 45, 60, 85, 39, 69, 45, 65, 90, 37, 50, 48, 63, 48, 63, 48, 63, 45, 85, 50, 62, 80, 32, 63, 85, 105, 130, 43, 55, 40, 60, 126, 55, 85, 95, 40, 55, 75, 85, 75, 70, 90, 80, 59, 99, 89, 60, 85, 50, 75, 65, 35, 45, 80, 45, 105, 67, 85, 125, 70, 115, 80, 85, 145, 103, 133, 45, 65, 62, 82, 40, 60, 40, 60, 50, 70, 95, 40, 50, 75, 50, 63, 50, 65, 85, 50, 70, 60, 45, 105, 45, 70, 50, 70, 80, 50, 60, 91, 131, 70, 95, 115, 40, 70, 80, 55, 75, 55, 60, 90, 60, 70, 90, 40, 80, 50, 85, 40, 84, 50, 60, 90, 50, 80, 70, 100, 95, 50, 75, 75, 105, 66, 112, 50, 70, 90, 55, 65, 129, 90, 72, 80, 70, 100, 120, 90, 90, 90, 90, 95, 65, 95, 122, 40, 58, 72, 40, 52, 67, 38, 77, 43, 55, 71, 40, 60, 50, 58, 72, 39, 67, 68, 48, 62, 62, 78, 60, 54, 76, 100, 150, 50, 60, 72, 66, 86, 53, 88, 67, 115, 60, 90, 62, 88, 33, 52, 77, 119, 50, 72, 65, 75, 57, 150, 35, 53, 70, 91, 48, 76, 70, 122, 85, 184, 35, 80, 95, 95, 121, 110, 60, 120, 55, 75, 75, 40, 50, 90, 54, 69, 74, 30, 50, 75, 30, 60, 45, 95, 90, 57, 77, 70, 40, 60, 40, 75, 130, 62, 152, 70, 100, 52, 92, 35, 90, 55, 80, 40, 60, 50, 80, 38, 48, 98, 90, 80, 90, 40, 140, 80, 110, 130, 95, 95, 60, 65, 135, 63, 80, 70, 85, 100, 65, 90, 125, 85, 75, 115, 115, 31, 131, 107, 89, 47, 139, 37, 71, 103, 131, 53, 101, 115], \"yaxis\": \"y\"}],\n",
              "                        {\"legend\": {\"itemsizing\": \"constant\", \"tracegroupgap\": 0}, \"margin\": {\"t\": 60}, \"template\": {\"data\": {\"bar\": [{\"error_x\": {\"color\": \"#2a3f5f\"}, \"error_y\": {\"color\": \"#2a3f5f\"}, \"marker\": {\"line\": {\"color\": \"#E5ECF6\", \"width\": 0.5}}, \"type\": \"bar\"}], \"barpolar\": [{\"marker\": {\"line\": {\"color\": \"#E5ECF6\", \"width\": 0.5}}, \"type\": \"barpolar\"}], \"carpet\": [{\"aaxis\": {\"endlinecolor\": \"#2a3f5f\", \"gridcolor\": \"white\", \"linecolor\": \"white\", \"minorgridcolor\": \"white\", \"startlinecolor\": \"#2a3f5f\"}, \"baxis\": {\"endlinecolor\": \"#2a3f5f\", \"gridcolor\": \"white\", \"linecolor\": \"white\", \"minorgridcolor\": \"white\", \"startlinecolor\": \"#2a3f5f\"}, \"type\": \"carpet\"}], \"choropleth\": [{\"colorbar\": {\"outlinewidth\": 0, \"ticks\": \"\"}, \"type\": \"choropleth\"}], \"contour\": [{\"colorbar\": {\"outlinewidth\": 0, \"ticks\": \"\"}, \"colorscale\": [[0.0, \"#0d0887\"], [0.1111111111111111, \"#46039f\"], [0.2222222222222222, \"#7201a8\"], [0.3333333333333333, \"#9c179e\"], [0.4444444444444444, \"#bd3786\"], [0.5555555555555556, \"#d8576b\"], [0.6666666666666666, \"#ed7953\"], [0.7777777777777778, \"#fb9f3a\"], [0.8888888888888888, \"#fdca26\"], [1.0, \"#f0f921\"]], \"type\": \"contour\"}], \"contourcarpet\": [{\"colorbar\": {\"outlinewidth\": 0, \"ticks\": \"\"}, \"type\": \"contourcarpet\"}], \"heatmap\": [{\"colorbar\": {\"outlinewidth\": 0, \"ticks\": \"\"}, \"colorscale\": [[0.0, \"#0d0887\"], [0.1111111111111111, \"#46039f\"], [0.2222222222222222, \"#7201a8\"], [0.3333333333333333, \"#9c179e\"], [0.4444444444444444, \"#bd3786\"], [0.5555555555555556, \"#d8576b\"], [0.6666666666666666, \"#ed7953\"], [0.7777777777777778, \"#fb9f3a\"], [0.8888888888888888, \"#fdca26\"], [1.0, \"#f0f921\"]], \"type\": \"heatmap\"}], \"heatmapgl\": [{\"colorbar\": {\"outlinewidth\": 0, \"ticks\": \"\"}, \"colorscale\": [[0.0, \"#0d0887\"], [0.1111111111111111, \"#46039f\"], [0.2222222222222222, \"#7201a8\"], [0.3333333333333333, \"#9c179e\"], [0.4444444444444444, \"#bd3786\"], [0.5555555555555556, \"#d8576b\"], [0.6666666666666666, \"#ed7953\"], [0.7777777777777778, \"#fb9f3a\"], [0.8888888888888888, \"#fdca26\"], [1.0, \"#f0f921\"]], \"type\": \"heatmapgl\"}], \"histogram\": [{\"marker\": {\"colorbar\": {\"outlinewidth\": 0, \"ticks\": \"\"}}, \"type\": \"histogram\"}], \"histogram2d\": [{\"colorbar\": {\"outlinewidth\": 0, \"ticks\": \"\"}, \"colorscale\": [[0.0, \"#0d0887\"], [0.1111111111111111, \"#46039f\"], [0.2222222222222222, \"#7201a8\"], [0.3333333333333333, \"#9c179e\"], [0.4444444444444444, \"#bd3786\"], [0.5555555555555556, \"#d8576b\"], [0.6666666666666666, \"#ed7953\"], [0.7777777777777778, \"#fb9f3a\"], [0.8888888888888888, \"#fdca26\"], [1.0, \"#f0f921\"]], \"type\": \"histogram2d\"}], \"histogram2dcontour\": [{\"colorbar\": {\"outlinewidth\": 0, \"ticks\": \"\"}, \"colorscale\": [[0.0, \"#0d0887\"], [0.1111111111111111, \"#46039f\"], [0.2222222222222222, \"#7201a8\"], [0.3333333333333333, \"#9c179e\"], [0.4444444444444444, \"#bd3786\"], [0.5555555555555556, \"#d8576b\"], [0.6666666666666666, \"#ed7953\"], [0.7777777777777778, \"#fb9f3a\"], [0.8888888888888888, \"#fdca26\"], [1.0, \"#f0f921\"]], \"type\": \"histogram2dcontour\"}], \"mesh3d\": [{\"colorbar\": {\"outlinewidth\": 0, \"ticks\": \"\"}, \"type\": \"mesh3d\"}], \"parcoords\": [{\"line\": {\"colorbar\": {\"outlinewidth\": 0, \"ticks\": \"\"}}, \"type\": \"parcoords\"}], \"pie\": [{\"automargin\": true, \"type\": \"pie\"}], \"scatter\": [{\"marker\": {\"colorbar\": {\"outlinewidth\": 0, \"ticks\": \"\"}}, \"type\": \"scatter\"}], \"scatter3d\": [{\"line\": {\"colorbar\": {\"outlinewidth\": 0, \"ticks\": \"\"}}, \"marker\": {\"colorbar\": {\"outlinewidth\": 0, \"ticks\": \"\"}}, \"type\": \"scatter3d\"}], \"scattercarpet\": [{\"marker\": {\"colorbar\": {\"outlinewidth\": 0, \"ticks\": \"\"}}, \"type\": \"scattercarpet\"}], \"scattergeo\": [{\"marker\": {\"colorbar\": {\"outlinewidth\": 0, \"ticks\": \"\"}}, \"type\": \"scattergeo\"}], \"scattergl\": [{\"marker\": {\"colorbar\": {\"outlinewidth\": 0, \"ticks\": \"\"}}, \"type\": \"scattergl\"}], \"scattermapbox\": [{\"marker\": {\"colorbar\": {\"outlinewidth\": 0, \"ticks\": \"\"}}, \"type\": \"scattermapbox\"}], \"scatterpolar\": [{\"marker\": {\"colorbar\": {\"outlinewidth\": 0, \"ticks\": \"\"}}, \"type\": \"scatterpolar\"}], \"scatterpolargl\": [{\"marker\": {\"colorbar\": {\"outlinewidth\": 0, \"ticks\": \"\"}}, \"type\": \"scatterpolargl\"}], \"scatterternary\": [{\"marker\": {\"colorbar\": {\"outlinewidth\": 0, \"ticks\": \"\"}}, \"type\": \"scatterternary\"}], \"surface\": [{\"colorbar\": {\"outlinewidth\": 0, \"ticks\": \"\"}, \"colorscale\": [[0.0, \"#0d0887\"], [0.1111111111111111, \"#46039f\"], [0.2222222222222222, \"#7201a8\"], [0.3333333333333333, \"#9c179e\"], [0.4444444444444444, \"#bd3786\"], [0.5555555555555556, \"#d8576b\"], [0.6666666666666666, \"#ed7953\"], [0.7777777777777778, \"#fb9f3a\"], [0.8888888888888888, \"#fdca26\"], [1.0, \"#f0f921\"]], \"type\": \"surface\"}], \"table\": [{\"cells\": {\"fill\": {\"color\": \"#EBF0F8\"}, \"line\": {\"color\": \"white\"}}, \"header\": {\"fill\": {\"color\": \"#C8D4E3\"}, \"line\": {\"color\": \"white\"}}, \"type\": \"table\"}]}, \"layout\": {\"annotationdefaults\": {\"arrowcolor\": \"#2a3f5f\", \"arrowhead\": 0, \"arrowwidth\": 1}, \"coloraxis\": {\"colorbar\": {\"outlinewidth\": 0, \"ticks\": \"\"}}, \"colorscale\": {\"diverging\": [[0, \"#8e0152\"], [0.1, \"#c51b7d\"], [0.2, \"#de77ae\"], [0.3, \"#f1b6da\"], [0.4, \"#fde0ef\"], [0.5, \"#f7f7f7\"], [0.6, \"#e6f5d0\"], [0.7, \"#b8e186\"], [0.8, \"#7fbc41\"], [0.9, \"#4d9221\"], [1, \"#276419\"]], \"sequential\": [[0.0, \"#0d0887\"], [0.1111111111111111, \"#46039f\"], [0.2222222222222222, \"#7201a8\"], [0.3333333333333333, \"#9c179e\"], [0.4444444444444444, \"#bd3786\"], [0.5555555555555556, \"#d8576b\"], [0.6666666666666666, \"#ed7953\"], [0.7777777777777778, \"#fb9f3a\"], [0.8888888888888888, \"#fdca26\"], [1.0, \"#f0f921\"]], \"sequentialminus\": [[0.0, \"#0d0887\"], [0.1111111111111111, \"#46039f\"], [0.2222222222222222, \"#7201a8\"], [0.3333333333333333, \"#9c179e\"], [0.4444444444444444, \"#bd3786\"], [0.5555555555555556, \"#d8576b\"], [0.6666666666666666, \"#ed7953\"], [0.7777777777777778, \"#fb9f3a\"], [0.8888888888888888, \"#fdca26\"], [1.0, \"#f0f921\"]]}, \"colorway\": [\"#636efa\", \"#EF553B\", \"#00cc96\", \"#ab63fa\", \"#FFA15A\", \"#19d3f3\", \"#FF6692\", \"#B6E880\", \"#FF97FF\", \"#FECB52\"], \"font\": {\"color\": \"#2a3f5f\"}, \"geo\": {\"bgcolor\": \"white\", \"lakecolor\": \"white\", \"landcolor\": \"#E5ECF6\", \"showlakes\": true, \"showland\": true, \"subunitcolor\": \"white\"}, \"hoverlabel\": {\"align\": \"left\"}, \"hovermode\": \"closest\", \"mapbox\": {\"style\": \"light\"}, \"paper_bgcolor\": \"white\", \"plot_bgcolor\": \"#E5ECF6\", \"polar\": {\"angularaxis\": {\"gridcolor\": \"white\", \"linecolor\": \"white\", \"ticks\": \"\"}, \"bgcolor\": \"#E5ECF6\", \"radialaxis\": {\"gridcolor\": \"white\", \"linecolor\": \"white\", \"ticks\": \"\"}}, \"scene\": {\"xaxis\": {\"backgroundcolor\": \"#E5ECF6\", \"gridcolor\": \"white\", \"gridwidth\": 2, \"linecolor\": \"white\", \"showbackground\": true, \"ticks\": \"\", \"zerolinecolor\": \"white\"}, \"yaxis\": {\"backgroundcolor\": \"#E5ECF6\", \"gridcolor\": \"white\", \"gridwidth\": 2, \"linecolor\": \"white\", \"showbackground\": true, \"ticks\": \"\", \"zerolinecolor\": \"white\"}, \"zaxis\": {\"backgroundcolor\": \"#E5ECF6\", \"gridcolor\": \"white\", \"gridwidth\": 2, \"linecolor\": \"white\", \"showbackground\": true, \"ticks\": \"\", \"zerolinecolor\": \"white\"}}, \"shapedefaults\": {\"line\": {\"color\": \"#2a3f5f\"}}, \"ternary\": {\"aaxis\": {\"gridcolor\": \"white\", \"linecolor\": \"white\", \"ticks\": \"\"}, \"baxis\": {\"gridcolor\": \"white\", \"linecolor\": \"white\", \"ticks\": \"\"}, \"bgcolor\": \"#E5ECF6\", \"caxis\": {\"gridcolor\": \"white\", \"linecolor\": \"white\", \"ticks\": \"\"}}, \"title\": {\"x\": 0.05}, \"xaxis\": {\"automargin\": true, \"gridcolor\": \"white\", \"linecolor\": \"white\", \"ticks\": \"\", \"title\": {\"standoff\": 15}, \"zerolinecolor\": \"white\", \"zerolinewidth\": 2}, \"yaxis\": {\"automargin\": true, \"gridcolor\": \"white\", \"linecolor\": \"white\", \"ticks\": \"\", \"title\": {\"standoff\": 15}, \"zerolinecolor\": \"white\", \"zerolinewidth\": 2}}}, \"xaxis\": {\"anchor\": \"y\", \"domain\": [0.0, 1.0], \"title\": {\"text\": \"ATTACK\"}}, \"yaxis\": {\"anchor\": \"x\", \"domain\": [0.0, 1.0], \"title\": {\"text\": \"DEFENSE\"}}},\n",
              "                        {\"responsive\": true}\n",
              "                    ).then(function(){\n",
              "                            \n",
              "var gd = document.getElementById('4cd22360-62af-4dc8-a971-c1bc282bb208');\n",
              "var x = new MutationObserver(function (mutations, observer) {{\n",
              "        var display = window.getComputedStyle(gd).display;\n",
              "        if (!display || display === 'none') {{\n",
              "            console.log([gd, 'removed!']);\n",
              "            Plotly.purge(gd);\n",
              "            observer.disconnect();\n",
              "        }}\n",
              "}});\n",
              "\n",
              "// Listen for the removal of the full notebook cells\n",
              "var notebookContainer = gd.closest('#notebook-container');\n",
              "if (notebookContainer) {{\n",
              "    x.observe(notebookContainer, {childList: true});\n",
              "}}\n",
              "\n",
              "// Listen for the clearing of the current output cell\n",
              "var outputEl = gd.closest('.output');\n",
              "if (outputEl) {{\n",
              "    x.observe(outputEl, {childList: true});\n",
              "}}\n",
              "\n",
              "                        })\n",
              "                };\n",
              "                \n",
              "            </script>\n",
              "        </div>\n",
              "</body>\n",
              "</html>"
            ]
          },
          "metadata": {
            "tags": []
          }
        }
      ]
    },
    {
      "cell_type": "code",
      "metadata": {
        "id": "qBhlEz-eld_J",
        "colab": {
          "base_uri": "https://localhost:8080/",
          "height": 542
        },
        "outputId": "2b8720ee-b621-41ab-9498-223af15d55b9"
      },
      "source": [
        "fig = px.histogram(df, x=\"ATTACK\", y=\"DEFENSE\", color=\"IS_LEGENDARY\", hover_data=[\"NAME\"], marginal=\"box\")\n",
        "fig.show()"
      ],
      "execution_count": null,
      "outputs": [
        {
          "output_type": "display_data",
          "data": {
            "text/html": [
              "<html>\n",
              "<head><meta charset=\"utf-8\" /></head>\n",
              "<body>\n",
              "    <div>\n",
              "            <script src=\"https://cdnjs.cloudflare.com/ajax/libs/mathjax/2.7.5/MathJax.js?config=TeX-AMS-MML_SVG\"></script><script type=\"text/javascript\">if (window.MathJax) {MathJax.Hub.Config({SVG: {font: \"STIX-Web\"}});}</script>\n",
              "                <script type=\"text/javascript\">window.PlotlyConfig = {MathJaxConfig: 'local'};</script>\n",
              "        <script src=\"https://cdn.plot.ly/plotly-latest.min.js\"></script>    \n",
              "            <div id=\"d6978b11-5dec-4d71-ace0-6d31e9256e95\" class=\"plotly-graph-div\" style=\"height:525px; width:100%;\"></div>\n",
              "            <script type=\"text/javascript\">\n",
              "                \n",
              "                    window.PLOTLYENV=window.PLOTLYENV || {};\n",
              "                    \n",
              "                if (document.getElementById(\"d6978b11-5dec-4d71-ace0-6d31e9256e95\")) {\n",
              "                    Plotly.newPlot(\n",
              "                        'd6978b11-5dec-4d71-ace0-6d31e9256e95',\n",
              "                        [{\"alignmentgroup\": \"True\", \"bingroup\": \"x\", \"hoverlabel\": {\"namelength\": 0}, \"hovertemplate\": \"IS_LEGENDARY=0<br>ATTACK=%{x}<br>count of DEFENSE=%{y}\", \"legendgroup\": \"IS_LEGENDARY=0\", \"marker\": {\"color\": \"#636efa\"}, \"name\": \"IS_LEGENDARY=0\", \"offsetgroup\": \"IS_LEGENDARY=0\", \"orientation\": \"v\", \"showlegend\": true, \"type\": \"histogram\", \"x\": [49, 62, 100, 52, 64, 104, 48, 63, 103, 30, 20, 45, 35, 25, 150, 45, 60, 80, 56, 71, 60, 90, 60, 95, 55, 85, 75, 100, 47, 62, 92, 57, 72, 102, 45, 70, 41, 67, 45, 70, 45, 80, 50, 65, 80, 70, 95, 55, 65, 55, 100, 35, 60, 52, 82, 80, 105, 70, 110, 50, 65, 95, 20, 35, 50, 80, 100, 130, 75, 90, 105, 40, 70, 80, 95, 120, 85, 100, 65, 75, 35, 60, 90, 85, 110, 45, 70, 80, 105, 65, 95, 35, 50, 65, 45, 48, 73, 105, 130, 30, 50, 40, 105, 50, 80, 120, 105, 55, 65, 90, 85, 130, 5, 55, 125, 40, 65, 67, 92, 45, 75, 45, 110, 50, 83, 95, 155, 100, 10, 155, 85, 48, 55, 65, 65, 130, 60, 40, 60, 80, 115, 135, 110, 64, 84, 134, 49, 62, 82, 52, 64, 84, 65, 80, 105, 46, 76, 30, 50, 20, 35, 60, 90, 90, 38, 58, 40, 25, 30, 20, 40, 50, 75, 40, 55, 95, 80, 20, 50, 100, 75, 35, 45, 55, 70, 30, 75, 65, 45, 85, 65, 65, 85, 75, 60, 72, 33, 80, 65, 90, 70, 75, 125, 80, 120, 95, 150, 10, 185, 95, 80, 130, 40, 50, 50, 100, 55, 65, 105, 55, 40, 80, 60, 90, 95, 60, 120, 80, 95, 20, 35, 95, 30, 63, 75, 80, 10, 64, 84, 164, 45, 65, 110, 60, 85, 160, 70, 85, 150, 55, 90, 30, 70, 45, 35, 70, 35, 50, 30, 50, 70, 40, 70, 100, 55, 85, 30, 50, 25, 35, 85, 30, 60, 40, 130, 60, 80, 160, 45, 90, 90, 51, 71, 91, 60, 120, 20, 45, 45, 65, 85, 105, 70, 90, 140, 40, 100, 45, 75, 50, 40, 73, 47, 60, 43, 73, 90, 140, 70, 90, 60, 120, 85, 25, 45, 60, 100, 70, 100, 85, 115, 40, 110, 115, 100, 55, 95, 48, 78, 80, 120, 40, 70, 41, 81, 95, 125, 15, 60, 70, 90, 75, 165, 40, 70, 68, 50, 150, 23, 50, 120, 40, 60, 80, 64, 104, 84, 90, 30, 75, 95, 145, 55, 75, 145, 68, 89, 109, 58, 78, 104, 51, 66, 86, 55, 75, 120, 45, 85, 25, 85, 65, 85, 120, 30, 70, 125, 165, 42, 52, 29, 69, 94, 30, 80, 45, 65, 105, 35, 60, 48, 83, 100, 50, 80, 66, 136, 60, 125, 55, 82, 30, 63, 93, 24, 89, 80, 25, 5, 65, 92, 70, 90, 170, 85, 70, 145, 72, 112, 50, 90, 61, 106, 100, 49, 69, 20, 62, 132, 120, 70, 85, 140, 100, 123, 95, 50, 76, 110, 60, 95, 130, 80, 165, 55, 100, 80, 65, 80, 45, 60, 75, 63, 93, 123, 55, 75, 100, 55, 85, 60, 80, 110, 50, 88, 53, 98, 53, 98, 53, 98, 25, 55, 55, 77, 115, 60, 100, 75, 105, 135, 45, 57, 85, 135, 60, 80, 105, 140, 50, 65, 95, 100, 125, 53, 63, 103, 45, 55, 100, 27, 67, 35, 60, 92, 72, 82, 117, 90, 30, 86, 65, 105, 75, 90, 58, 30, 50, 78, 108, 112, 140, 50, 95, 65, 105, 50, 95, 30, 45, 55, 30, 40, 65, 44, 87, 50, 65, 95, 60, 100, 75, 75, 135, 55, 85, 40, 60, 75, 47, 77, 50, 94, 55, 80, 100, 55, 85, 115, 55, 75, 30, 40, 55, 87, 117, 147, 70, 130, 50, 40, 70, 66, 85, 125, 120, 74, 124, 85, 125, 110, 83, 123, 55, 65, 97, 109, 65, 85, 105, 85, 60, 61, 78, 107, 45, 59, 69, 56, 63, 145, 36, 56, 50, 73, 81, 35, 22, 52, 50, 68, 38, 65, 65, 65, 100, 82, 124, 80, 48, 48, 80, 110, 150, 52, 72, 48, 80, 54, 92, 52, 105, 60, 75, 53, 73, 38, 55, 89, 121, 59, 77, 65, 92, 58, 50, 50, 75, 100, 80, 70, 110, 66, 100, 69, 117, 30, 70, 55, 75, 107, 65, 85, 115, 54, 69, 74, 75, 85, 120, 70, 110, 62, 82, 70, 82, 132, 70, 45, 55, 65, 115, 140, 53, 63, 100, 125, 40, 70, 55, 105, 35, 45, 44, 64, 75, 125, 30, 40, 120, 52, 60, 120, 35, 125, 55, 75, 60, 95, 95, 100, 115, 78, 98, 90, 105, 60, 131, 55, 75, 110], \"xaxis\": \"x\", \"y\": [49, 63, 123, 43, 58, 78, 65, 80, 120, 35, 55, 50, 30, 50, 40, 40, 55, 80, 35, 70, 30, 65, 44, 69, 40, 50, 90, 120, 52, 67, 87, 40, 57, 77, 48, 73, 40, 75, 20, 45, 35, 70, 55, 70, 85, 55, 80, 50, 60, 30, 60, 35, 60, 48, 78, 35, 60, 45, 80, 40, 65, 95, 15, 30, 65, 50, 70, 80, 35, 50, 65, 35, 65, 100, 115, 130, 55, 70, 65, 180, 70, 95, 55, 45, 70, 55, 80, 50, 75, 100, 180, 30, 45, 80, 160, 45, 70, 90, 115, 50, 70, 80, 85, 95, 110, 53, 79, 75, 95, 120, 95, 120, 5, 115, 100, 70, 95, 60, 65, 55, 85, 65, 80, 35, 57, 57, 120, 95, 55, 109, 80, 48, 50, 60, 60, 60, 70, 100, 125, 90, 105, 85, 65, 45, 65, 95, 65, 80, 100, 43, 58, 78, 64, 80, 100, 34, 64, 30, 50, 30, 50, 40, 70, 80, 38, 58, 15, 28, 15, 65, 85, 45, 70, 40, 55, 105, 95, 50, 80, 115, 75, 40, 50, 70, 55, 30, 55, 45, 45, 85, 60, 110, 42, 80, 60, 48, 58, 65, 90, 140, 70, 105, 230, 50, 75, 85, 140, 230, 115, 55, 50, 75, 40, 120, 40, 80, 95, 35, 75, 45, 70, 140, 30, 90, 95, 60, 120, 90, 62, 35, 35, 95, 15, 37, 37, 105, 10, 50, 70, 150, 35, 45, 75, 40, 60, 80, 50, 70, 110, 35, 70, 41, 61, 35, 55, 50, 55, 70, 30, 50, 70, 50, 40, 60, 30, 60, 30, 100, 25, 35, 65, 32, 62, 60, 80, 60, 80, 100, 90, 45, 45, 23, 43, 63, 30, 60, 40, 135, 45, 65, 125, 125, 100, 140, 230, 55, 85, 40, 80, 40, 50, 75, 75, 45, 53, 83, 20, 70, 35, 45, 40, 100, 140, 35, 65, 60, 45, 50, 80, 40, 60, 60, 110, 60, 60, 65, 85, 43, 73, 65, 85, 55, 105, 77, 97, 50, 100, 20, 79, 70, 70, 35, 75, 90, 130, 83, 80, 60, 48, 50, 80, 50, 70, 90, 85, 105, 105, 130, 55, 60, 100, 130, 80, 100, 150, 64, 85, 105, 44, 52, 71, 53, 68, 88, 30, 50, 70, 40, 60, 41, 51, 34, 49, 79, 35, 65, 40, 60, 118, 168, 45, 95, 50, 42, 102, 70, 35, 55, 45, 70, 48, 68, 66, 34, 44, 44, 94, 60, 52, 42, 64, 50, 47, 67, 86, 116, 95, 45, 5, 45, 108, 45, 65, 115, 40, 40, 88, 78, 118, 90, 110, 40, 65, 72, 56, 76, 50, 50, 105, 65, 115, 95, 130, 125, 67, 67, 95, 86, 130, 110, 125, 80, 70, 95, 145, 135, 70, 107, 80, 55, 75, 95, 45, 55, 65, 45, 60, 85, 39, 69, 45, 65, 90, 37, 50, 48, 63, 48, 63, 48, 63, 45, 85, 50, 62, 80, 32, 63, 85, 105, 130, 43, 55, 40, 60, 126, 55, 85, 95, 40, 55, 75, 85, 75, 70, 90, 80, 59, 99, 89, 60, 85, 50, 75, 65, 35, 45, 80, 45, 105, 67, 85, 125, 70, 115, 80, 85, 145, 103, 133, 45, 65, 62, 82, 40, 60, 40, 60, 50, 70, 95, 40, 50, 75, 50, 63, 50, 65, 85, 50, 70, 60, 45, 105, 45, 70, 50, 70, 80, 50, 60, 91, 131, 70, 95, 115, 40, 70, 80, 55, 75, 55, 60, 90, 60, 70, 90, 40, 80, 50, 85, 40, 84, 50, 60, 90, 50, 80, 70, 100, 95, 50, 75, 75, 105, 66, 112, 50, 70, 90, 55, 65, 65, 95, 122, 40, 58, 72, 40, 52, 67, 38, 77, 43, 55, 71, 40, 60, 50, 58, 72, 39, 67, 68, 48, 62, 62, 78, 60, 54, 76, 100, 150, 50, 60, 72, 66, 86, 53, 88, 67, 115, 60, 90, 62, 88, 33, 52, 77, 119, 50, 72, 65, 75, 57, 150, 35, 53, 70, 91, 48, 76, 70, 122, 85, 184, 35, 80, 55, 75, 75, 40, 50, 90, 54, 69, 74, 30, 50, 75, 30, 60, 45, 95, 90, 57, 77, 70, 40, 60, 40, 75, 130, 62, 152, 70, 100, 52, 92, 35, 90, 55, 80, 40, 60, 50, 80, 38, 48, 98, 90, 80, 90, 40, 140, 80, 110, 130, 95, 95, 60, 65, 135, 63, 80, 70, 85, 100, 65, 90, 125], \"yaxis\": \"y\"}, {\"alignmentgroup\": \"True\", \"customdata\": [[\"Bulbasaur\"], [\"Ivysaur\"], [\"Venusaur\"], [\"Charmander\"], [\"Charmeleon\"], [\"Charizard\"], [\"Squirtle\"], [\"Wartortle\"], [\"Blastoise\"], [\"Caterpie\"], [\"Metapod\"], [\"Butterfree\"], [\"Weedle\"], [\"Kakuna\"], [\"Beedrill\"], [\"Pidgey\"], [\"Pidgeotto\"], [\"Pidgeot\"], [\"Rattata\"], [\"Raticate\"], [\"Spearow\"], [\"Fearow\"], [\"Ekans\"], [\"Arbok\"], [\"Pikachu\"], [\"Raichu\"], [\"Sandshrew\"], [\"Sandslash\"], [\"Nidoran\\u2640\"], [\"Nidorina\"], [\"Nidoqueen\"], [\"Nidoran\\u2642\"], [\"Nidorino\"], [\"Nidoking\"], [\"Clefairy\"], [\"Clefable\"], [\"Vulpix\"], [\"Ninetales\"], [\"Jigglypuff\"], [\"Wigglytuff\"], [\"Zubat\"], [\"Golbat\"], [\"Oddish\"], [\"Gloom\"], [\"Vileplume\"], [\"Paras\"], [\"Parasect\"], [\"Venonat\"], [\"Venomoth\"], [\"Diglett\"], [\"Dugtrio\"], [\"Meowth\"], [\"Persian\"], [\"Psyduck\"], [\"Golduck\"], [\"Mankey\"], [\"Primeape\"], [\"Growlithe\"], [\"Arcanine\"], [\"Poliwag\"], [\"Poliwhirl\"], [\"Poliwrath\"], [\"Abra\"], [\"Kadabra\"], [\"Alakazam\"], [\"Machop\"], [\"Machoke\"], [\"Machamp\"], [\"Bellsprout\"], [\"Weepinbell\"], [\"Victreebel\"], [\"Tentacool\"], [\"Tentacruel\"], [\"Geodude\"], [\"Graveler\"], [\"Golem\"], [\"Ponyta\"], [\"Rapidash\"], [\"Slowpoke\"], [\"Slowbro\"], [\"Magnemite\"], [\"Magneton\"], [\"Farfetch'd\"], [\"Doduo\"], [\"Dodrio\"], [\"Seel\"], [\"Dewgong\"], [\"Grimer\"], [\"Muk\"], [\"Shellder\"], [\"Cloyster\"], [\"Gastly\"], [\"Haunter\"], [\"Gengar\"], [\"Onix\"], [\"Drowzee\"], [\"Hypno\"], [\"Krabby\"], [\"Kingler\"], [\"Voltorb\"], [\"Electrode\"], [\"Exeggcute\"], [\"Exeggutor\"], [\"Cubone\"], [\"Marowak\"], [\"Hitmonlee\"], [\"Hitmonchan\"], [\"Lickitung\"], [\"Koffing\"], [\"Weezing\"], [\"Rhyhorn\"], [\"Rhydon\"], [\"Chansey\"], [\"Tangela\"], [\"Kangaskhan\"], [\"Horsea\"], [\"Seadra\"], [\"Goldeen\"], [\"Seaking\"], [\"Staryu\"], [\"Starmie\"], [\"Mr. Mime\"], [\"Scyther\"], [\"Jynx\"], [\"Electabuzz\"], [\"Magmar\"], [\"Pinsir\"], [\"Tauros\"], [\"Magikarp\"], [\"Gyarados\"], [\"Lapras\"], [\"Ditto\"], [\"Eevee\"], [\"Vaporeon\"], [\"Jolteon\"], [\"Flareon\"], [\"Porygon\"], [\"Omanyte\"], [\"Omastar\"], [\"Kabuto\"], [\"Kabutops\"], [\"Aerodactyl\"], [\"Snorlax\"], [\"Dratini\"], [\"Dragonair\"], [\"Dragonite\"], [\"Chikorita\"], [\"Bayleef\"], [\"Meganium\"], [\"Cyndaquil\"], [\"Quilava\"], [\"Typhlosion\"], [\"Totodile\"], [\"Croconaw\"], [\"Feraligatr\"], [\"Sentret\"], [\"Furret\"], [\"Hoothoot\"], [\"Noctowl\"], [\"Ledyba\"], [\"Ledian\"], [\"Spinarak\"], [\"Ariados\"], [\"Crobat\"], [\"Chinchou\"], [\"Lanturn\"], [\"Pichu\"], [\"Cleffa\"], [\"Igglybuff\"], [\"Togepi\"], [\"Togetic\"], [\"Natu\"], [\"Xatu\"], [\"Mareep\"], [\"Flaaffy\"], [\"Ampharos\"], [\"Bellossom\"], [\"Marill\"], [\"Azumarill\"], [\"Sudowoodo\"], [\"Politoed\"], [\"Hoppip\"], [\"Skiploom\"], [\"Jumpluff\"], [\"Aipom\"], [\"Sunkern\"], [\"Sunflora\"], [\"Yanma\"], [\"Wooper\"], [\"Quagsire\"], [\"Espeon\"], [\"Umbreon\"], [\"Murkrow\"], [\"Slowking\"], [\"Misdreavus\"], [\"Unown\"], [\"Wobbuffet\"], [\"Girafarig\"], [\"Pineco\"], [\"Forretress\"], [\"Dunsparce\"], [\"Gligar\"], [\"Steelix\"], [\"Snubbull\"], [\"Granbull\"], [\"Qwilfish\"], [\"Scizor\"], [\"Shuckle\"], [\"Heracross\"], [\"Sneasel\"], [\"Teddiursa\"], [\"Ursaring\"], [\"Slugma\"], [\"Magcargo\"], [\"Swinub\"], [\"Piloswine\"], [\"Corsola\"], [\"Remoraid\"], [\"Octillery\"], [\"Delibird\"], [\"Mantine\"], [\"Skarmory\"], [\"Houndour\"], [\"Houndoom\"], [\"Kingdra\"], [\"Phanpy\"], [\"Donphan\"], [\"Porygon2\"], [\"Stantler\"], [\"Smeargle\"], [\"Tyrogue\"], [\"Hitmontop\"], [\"Smoochum\"], [\"Elekid\"], [\"Magby\"], [\"Miltank\"], [\"Blissey\"], [\"Larvitar\"], [\"Pupitar\"], [\"Tyranitar\"], [\"Treecko\"], [\"Grovyle\"], [\"Sceptile\"], [\"Torchic\"], [\"Combusken\"], [\"Blaziken\"], [\"Mudkip\"], [\"Marshtomp\"], [\"Swampert\"], [\"Poochyena\"], [\"Mightyena\"], [\"Zigzagoon\"], [\"Linoone\"], [\"Wurmple\"], [\"Silcoon\"], [\"Beautifly\"], [\"Cascoon\"], [\"Dustox\"], [\"Lotad\"], [\"Lombre\"], [\"Ludicolo\"], [\"Seedot\"], [\"Nuzleaf\"], [\"Shiftry\"], [\"Taillow\"], [\"Swellow\"], [\"Wingull\"], [\"Pelipper\"], [\"Ralts\"], [\"Kirlia\"], [\"Gardevoir\"], [\"Surskit\"], [\"Masquerain\"], [\"Shroomish\"], [\"Breloom\"], [\"Slakoth\"], [\"Vigoroth\"], [\"Slaking\"], [\"Nincada\"], [\"Ninjask\"], [\"Shedinja\"], [\"Whismur\"], [\"Loudred\"], [\"Exploud\"], [\"Makuhita\"], [\"Hariyama\"], [\"Azurill\"], [\"Nosepass\"], [\"Skitty\"], [\"Delcatty\"], [\"Sableye\"], [\"Mawile\"], [\"Aron\"], [\"Lairon\"], [\"Aggron\"], [\"Meditite\"], [\"Medicham\"], [\"Electrike\"], [\"Manectric\"], [\"Plusle\"], [\"Minun\"], [\"Volbeat\"], [\"Illumise\"], [\"Roselia\"], [\"Gulpin\"], [\"Swalot\"], [\"Carvanha\"], [\"Sharpedo\"], [\"Wailmer\"], [\"Wailord\"], [\"Numel\"], [\"Camerupt\"], [\"Torkoal\"], [\"Spoink\"], [\"Grumpig\"], [\"Spinda\"], [\"Trapinch\"], [\"Vibrava\"], [\"Flygon\"], [\"Cacnea\"], [\"Cacturne\"], [\"Swablu\"], [\"Altaria\"], [\"Zangoose\"], [\"Seviper\"], [\"Lunatone\"], [\"Solrock\"], [\"Barboach\"], [\"Whiscash\"], [\"Corphish\"], [\"Crawdaunt\"], [\"Baltoy\"], [\"Claydol\"], [\"Lileep\"], [\"Cradily\"], [\"Anorith\"], [\"Armaldo\"], [\"Feebas\"], [\"Milotic\"], [\"Castform\"], [\"Kecleon\"], [\"Shuppet\"], [\"Banette\"], [\"Duskull\"], [\"Dusclops\"], [\"Tropius\"], [\"Chimecho\"], [\"Absol\"], [\"Wynaut\"], [\"Snorunt\"], [\"Glalie\"], [\"Spheal\"], [\"Sealeo\"], [\"Walrein\"], [\"Clamperl\"], [\"Huntail\"], [\"Gorebyss\"], [\"Relicanth\"], [\"Luvdisc\"], [\"Bagon\"], [\"Shelgon\"], [\"Salamence\"], [\"Beldum\"], [\"Metang\"], [\"Metagross\"], [\"Turtwig\"], [\"Grotle\"], [\"Torterra\"], [\"Chimchar\"], [\"Monferno\"], [\"Infernape\"], [\"Piplup\"], [\"Prinplup\"], [\"Empoleon\"], [\"Starly\"], [\"Staravia\"], [\"Staraptor\"], [\"Bidoof\"], [\"Bibarel\"], [\"Kricketot\"], [\"Kricketune\"], [\"Shinx\"], [\"Luxio\"], [\"Luxray\"], [\"Budew\"], [\"Roserade\"], [\"Cranidos\"], [\"Rampardos\"], [\"Shieldon\"], [\"Bastiodon\"], [\"Burmy\"], [\"Wormadam\"], [\"Mothim\"], [\"Combee\"], [\"Vespiquen\"], [\"Pachirisu\"], [\"Buizel\"], [\"Floatzel\"], [\"Cherubi\"], [\"Cherrim\"], [\"Shellos\"], [\"Gastrodon\"], [\"Ambipom\"], [\"Drifloon\"], [\"Drifblim\"], [\"Buneary\"], [\"Lopunny\"], [\"Mismagius\"], [\"Honchkrow\"], [\"Glameow\"], [\"Purugly\"], [\"Chingling\"], [\"Stunky\"], [\"Skuntank\"], [\"Bronzor\"], [\"Bronzong\"], [\"Bonsly\"], [\"Mime Jr.\"], [\"Happiny\"], [\"Chatot\"], [\"Spiritomb\"], [\"Gible\"], [\"Gabite\"], [\"Garchomp\"], [\"Munchlax\"], [\"Riolu\"], [\"Lucario\"], [\"Hippopotas\"], [\"Hippowdon\"], [\"Skorupi\"], [\"Drapion\"], [\"Croagunk\"], [\"Toxicroak\"], [\"Carnivine\"], [\"Finneon\"], [\"Lumineon\"], [\"Mantyke\"], [\"Snover\"], [\"Abomasnow\"], [\"Weavile\"], [\"Magnezone\"], [\"Lickilicky\"], [\"Rhyperior\"], [\"Tangrowth\"], [\"Electivire\"], [\"Magmortar\"], [\"Togekiss\"], [\"Yanmega\"], [\"Leafeon\"], [\"Glaceon\"], [\"Gliscor\"], [\"Mamoswine\"], [\"Porygon-Z\"], [\"Gallade\"], [\"Probopass\"], [\"Dusknoir\"], [\"Froslass\"], [\"Rotom\"], [\"Phione\"], [\"Snivy\"], [\"Servine\"], [\"Serperior\"], [\"Tepig\"], [\"Pignite\"], [\"Emboar\"], [\"Oshawott\"], [\"Dewott\"], [\"Samurott\"], [\"Patrat\"], [\"Watchog\"], [\"Lillipup\"], [\"Herdier\"], [\"Stoutland\"], [\"Purrloin\"], [\"Liepard\"], [\"Pansage\"], [\"Simisage\"], [\"Pansear\"], [\"Simisear\"], [\"Panpour\"], [\"Simipour\"], [\"Munna\"], [\"Musharna\"], [\"Pidove\"], [\"Tranquill\"], [\"Unfezant\"], [\"Blitzle\"], [\"Zebstrika\"], [\"Roggenrola\"], [\"Boldore\"], [\"Gigalith\"], [\"Woobat\"], [\"Swoobat\"], [\"Drilbur\"], [\"Excadrill\"], [\"Audino\"], [\"Timburr\"], [\"Gurdurr\"], [\"Conkeldurr\"], [\"Tympole\"], [\"Palpitoad\"], [\"Seismitoad\"], [\"Throh\"], [\"Sawk\"], [\"Sewaddle\"], [\"Swadloon\"], [\"Leavanny\"], [\"Venipede\"], [\"Whirlipede\"], [\"Scolipede\"], [\"Cottonee\"], [\"Whimsicott\"], [\"Petilil\"], [\"Lilligant\"], [\"Basculin\"], [\"Sandile\"], [\"Krokorok\"], [\"Krookodile\"], [\"Darumaka\"], [\"Darmanitan\"], [\"Maractus\"], [\"Dwebble\"], [\"Crustle\"], [\"Scraggy\"], [\"Scrafty\"], [\"Sigilyph\"], [\"Yamask\"], [\"Cofagrigus\"], [\"Tirtouga\"], [\"Carracosta\"], [\"Archen\"], [\"Archeops\"], [\"Trubbish\"], [\"Garbodor\"], [\"Zorua\"], [\"Zoroark\"], [\"Minccino\"], [\"Cinccino\"], [\"Gothita\"], [\"Gothorita\"], [\"Gothitelle\"], [\"Solosis\"], [\"Duosion\"], [\"Reuniclus\"], [\"Ducklett\"], [\"Swanna\"], [\"Vanillite\"], [\"Vanillish\"], [\"Vanilluxe\"], [\"Deerling\"], [\"Sawsbuck\"], [\"Emolga\"], [\"Karrablast\"], [\"Escavalier\"], [\"Foongus\"], [\"Amoonguss\"], [\"Frillish\"], [\"Jellicent\"], [\"Alomomola\"], [\"Joltik\"], [\"Galvantula\"], [\"Ferroseed\"], [\"Ferrothorn\"], [\"Klink\"], [\"Klang\"], [\"Klinklang\"], [\"Tynamo\"], [\"Eelektrik\"], [\"Eelektross\"], [\"Elgyem\"], [\"Beheeyem\"], [\"Litwick\"], [\"Lampent\"], [\"Chandelure\"], [\"Axew\"], [\"Fraxure\"], [\"Haxorus\"], [\"Cubchoo\"], [\"Beartic\"], [\"Cryogonal\"], [\"Shelmet\"], [\"Accelgor\"], [\"Stunfisk\"], [\"Mienfoo\"], [\"Mienshao\"], [\"Druddigon\"], [\"Golett\"], [\"Golurk\"], [\"Pawniard\"], [\"Bisharp\"], [\"Bouffalant\"], [\"Rufflet\"], [\"Braviary\"], [\"Vullaby\"], [\"Mandibuzz\"], [\"Heatmor\"], [\"Durant\"], [\"Deino\"], [\"Zweilous\"], [\"Hydreigon\"], [\"Larvesta\"], [\"Volcarona\"], [\"Chespin\"], [\"Quilladin\"], [\"Chesnaught\"], [\"Fennekin\"], [\"Braixen\"], [\"Delphox\"], [\"Froakie\"], [\"Frogadier\"], [\"Greninja\"], [\"Bunnelby\"], [\"Diggersby\"], [\"Fletchling\"], [\"Fletchinder\"], [\"Talonflame\"], [\"Scatterbug\"], [\"Spewpa\"], [\"Vivillon\"], [\"Litleo\"], [\"Pyroar\"], [\"Flab\\u00e9b\\u00e9\"], [\"Floette\"], [\"Florges\"], [\"Skiddo\"], [\"Gogoat\"], [\"Pancham\"], [\"Pangoro\"], [\"Furfrou\"], [\"Espurr\"], [\"Meowstic\"], [\"Honedge\"], [\"Doublade\"], [\"Aegislash\"], [\"Spritzee\"], [\"Aromatisse\"], [\"Swirlix\"], [\"Slurpuff\"], [\"Inkay\"], [\"Malamar\"], [\"Binacle\"], [\"Barbaracle\"], [\"Skrelp\"], [\"Dragalge\"], [\"Clauncher\"], [\"Clawitzer\"], [\"Helioptile\"], [\"Heliolisk\"], [\"Tyrunt\"], [\"Tyrantrum\"], [\"Amaura\"], [\"Aurorus\"], [\"Sylveon\"], [\"Hawlucha\"], [\"Dedenne\"], [\"Carbink\"], [\"Goomy\"], [\"Sliggoo\"], [\"Goodra\"], [\"Klefki\"], [\"Phantump\"], [\"Trevenant\"], [\"Pumpkaboo\"], [\"Gourgeist\"], [\"Bergmite\"], [\"Avalugg\"], [\"Noibat\"], [\"Noivern\"], [\"Rowlet\"], [\"Dartrix\"], [\"Decidueye\"], [\"Litten\"], [\"Torracat\"], [\"Incineroar\"], [\"Popplio\"], [\"Brionne\"], [\"Primarina\"], [\"Pikipek\"], [\"Trumbeak\"], [\"Toucannon\"], [\"Yungoos\"], [\"Gumshoos\"], [\"Grubbin\"], [\"Charjabug\"], [\"Vikavolt\"], [\"Crabrawler\"], [\"Crabominable\"], [\"Oricorio\"], [\"Cutiefly\"], [\"Ribombee\"], [\"Rockruff\"], [\"Lycanroc\"], [\"Wishiwashi\"], [\"Mareanie\"], [\"Toxapex\"], [\"Mudbray\"], [\"Mudsdale\"], [\"Dewpider\"], [\"Araquanid\"], [\"Fomantis\"], [\"Lurantis\"], [\"Morelull\"], [\"Shiinotic\"], [\"Salandit\"], [\"Salazzle\"], [\"Stufful\"], [\"Bewear\"], [\"Bounsweet\"], [\"Steenee\"], [\"Tsareena\"], [\"Comfey\"], [\"Oranguru\"], [\"Passimian\"], [\"Wimpod\"], [\"Golisopod\"], [\"Sandygast\"], [\"Palossand\"], [\"Pyukumuku\"], [\"Type: Null\"], [\"Silvally\"], [\"Minior\"], [\"Komala\"], [\"Turtonator\"], [\"Togedemaru\"], [\"Mimikyu\"], [\"Bruxish\"], [\"Drampa\"], [\"Dhelmise\"], [\"Jangmo-o\"], [\"Hakamo-o\"], [\"Kommo-o\"]], \"hoverlabel\": {\"namelength\": 0}, \"hovertemplate\": \"IS_LEGENDARY=0<br>ATTACK=%{x}<br>NAME=%{customdata[0]}\", \"legendgroup\": \"IS_LEGENDARY=0\", \"marker\": {\"color\": \"#636efa\"}, \"name\": \"IS_LEGENDARY=0\", \"notched\": true, \"offsetgroup\": \"IS_LEGENDARY=0\", \"showlegend\": false, \"type\": \"box\", \"x\": [49, 62, 100, 52, 64, 104, 48, 63, 103, 30, 20, 45, 35, 25, 150, 45, 60, 80, 56, 71, 60, 90, 60, 95, 55, 85, 75, 100, 47, 62, 92, 57, 72, 102, 45, 70, 41, 67, 45, 70, 45, 80, 50, 65, 80, 70, 95, 55, 65, 55, 100, 35, 60, 52, 82, 80, 105, 70, 110, 50, 65, 95, 20, 35, 50, 80, 100, 130, 75, 90, 105, 40, 70, 80, 95, 120, 85, 100, 65, 75, 35, 60, 90, 85, 110, 45, 70, 80, 105, 65, 95, 35, 50, 65, 45, 48, 73, 105, 130, 30, 50, 40, 105, 50, 80, 120, 105, 55, 65, 90, 85, 130, 5, 55, 125, 40, 65, 67, 92, 45, 75, 45, 110, 50, 83, 95, 155, 100, 10, 155, 85, 48, 55, 65, 65, 130, 60, 40, 60, 80, 115, 135, 110, 64, 84, 134, 49, 62, 82, 52, 64, 84, 65, 80, 105, 46, 76, 30, 50, 20, 35, 60, 90, 90, 38, 58, 40, 25, 30, 20, 40, 50, 75, 40, 55, 95, 80, 20, 50, 100, 75, 35, 45, 55, 70, 30, 75, 65, 45, 85, 65, 65, 85, 75, 60, 72, 33, 80, 65, 90, 70, 75, 125, 80, 120, 95, 150, 10, 185, 95, 80, 130, 40, 50, 50, 100, 55, 65, 105, 55, 40, 80, 60, 90, 95, 60, 120, 80, 95, 20, 35, 95, 30, 63, 75, 80, 10, 64, 84, 164, 45, 65, 110, 60, 85, 160, 70, 85, 150, 55, 90, 30, 70, 45, 35, 70, 35, 50, 30, 50, 70, 40, 70, 100, 55, 85, 30, 50, 25, 35, 85, 30, 60, 40, 130, 60, 80, 160, 45, 90, 90, 51, 71, 91, 60, 120, 20, 45, 45, 65, 85, 105, 70, 90, 140, 40, 100, 45, 75, 50, 40, 73, 47, 60, 43, 73, 90, 140, 70, 90, 60, 120, 85, 25, 45, 60, 100, 70, 100, 85, 115, 40, 110, 115, 100, 55, 95, 48, 78, 80, 120, 40, 70, 41, 81, 95, 125, 15, 60, 70, 90, 75, 165, 40, 70, 68, 50, 150, 23, 50, 120, 40, 60, 80, 64, 104, 84, 90, 30, 75, 95, 145, 55, 75, 145, 68, 89, 109, 58, 78, 104, 51, 66, 86, 55, 75, 120, 45, 85, 25, 85, 65, 85, 120, 30, 70, 125, 165, 42, 52, 29, 69, 94, 30, 80, 45, 65, 105, 35, 60, 48, 83, 100, 50, 80, 66, 136, 60, 125, 55, 82, 30, 63, 93, 24, 89, 80, 25, 5, 65, 92, 70, 90, 170, 85, 70, 145, 72, 112, 50, 90, 61, 106, 100, 49, 69, 20, 62, 132, 120, 70, 85, 140, 100, 123, 95, 50, 76, 110, 60, 95, 130, 80, 165, 55, 100, 80, 65, 80, 45, 60, 75, 63, 93, 123, 55, 75, 100, 55, 85, 60, 80, 110, 50, 88, 53, 98, 53, 98, 53, 98, 25, 55, 55, 77, 115, 60, 100, 75, 105, 135, 45, 57, 85, 135, 60, 80, 105, 140, 50, 65, 95, 100, 125, 53, 63, 103, 45, 55, 100, 27, 67, 35, 60, 92, 72, 82, 117, 90, 30, 86, 65, 105, 75, 90, 58, 30, 50, 78, 108, 112, 140, 50, 95, 65, 105, 50, 95, 30, 45, 55, 30, 40, 65, 44, 87, 50, 65, 95, 60, 100, 75, 75, 135, 55, 85, 40, 60, 75, 47, 77, 50, 94, 55, 80, 100, 55, 85, 115, 55, 75, 30, 40, 55, 87, 117, 147, 70, 130, 50, 40, 70, 66, 85, 125, 120, 74, 124, 85, 125, 110, 83, 123, 55, 65, 97, 109, 65, 85, 105, 85, 60, 61, 78, 107, 45, 59, 69, 56, 63, 145, 36, 56, 50, 73, 81, 35, 22, 52, 50, 68, 38, 65, 65, 65, 100, 82, 124, 80, 48, 48, 80, 110, 150, 52, 72, 48, 80, 54, 92, 52, 105, 60, 75, 53, 73, 38, 55, 89, 121, 59, 77, 65, 92, 58, 50, 50, 75, 100, 80, 70, 110, 66, 100, 69, 117, 30, 70, 55, 75, 107, 65, 85, 115, 54, 69, 74, 75, 85, 120, 70, 110, 62, 82, 70, 82, 132, 70, 45, 55, 65, 115, 140, 53, 63, 100, 125, 40, 70, 55, 105, 35, 45, 44, 64, 75, 125, 30, 40, 120, 52, 60, 120, 35, 125, 55, 75, 60, 95, 95, 100, 115, 78, 98, 90, 105, 60, 131, 55, 75, 110], \"xaxis\": \"x2\", \"yaxis\": \"y2\"}, {\"alignmentgroup\": \"True\", \"bingroup\": \"x\", \"hoverlabel\": {\"namelength\": 0}, \"hovertemplate\": \"IS_LEGENDARY=1<br>ATTACK=%{x}<br>count of DEFENSE=%{y}\", \"legendgroup\": \"IS_LEGENDARY=1\", \"marker\": {\"color\": \"#EF553B\"}, \"name\": \"IS_LEGENDARY=1\", \"offsetgroup\": \"IS_LEGENDARY=1\", \"orientation\": \"v\", \"showlegend\": true, \"type\": \"histogram\", \"x\": [85, 90, 100, 150, 100, 85, 115, 75, 90, 130, 100, 100, 50, 75, 100, 130, 150, 180, 180, 100, 95, 75, 105, 125, 120, 120, 90, 160, 120, 70, 100, 90, 103, 120, 100, 90, 129, 90, 100, 105, 120, 150, 145, 120, 72, 128, 120, 131, 131, 100, 160, 160, 110, 115, 85, 130, 75, 29, 29, 137, 113, 53, 139, 137, 89, 101, 181, 101, 107, 95], \"xaxis\": \"x\", \"y\": [100, 85, 90, 70, 100, 75, 85, 115, 130, 90, 100, 200, 100, 150, 120, 100, 90, 160, 100, 100, 90, 130, 105, 70, 120, 100, 106, 110, 100, 120, 100, 90, 75, 120, 100, 129, 90, 72, 80, 70, 100, 120, 90, 90, 90, 90, 95, 95, 95, 121, 110, 60, 120, 85, 75, 115, 115, 31, 131, 107, 89, 47, 139, 37, 71, 103, 131, 53, 101, 115], \"yaxis\": \"y\"}, {\"alignmentgroup\": \"True\", \"customdata\": [[\"Articuno\"], [\"Zapdos\"], [\"Moltres\"], [\"Mewtwo\"], [\"Mew\"], [\"Raikou\"], [\"Entei\"], [\"Suicune\"], [\"Lugia\"], [\"Ho-Oh\"], [\"Celebi\"], [\"Regirock\"], [\"Regice\"], [\"Registeel\"], [\"Latias\"], [\"Latios\"], [\"Kyogre\"], [\"Groudon\"], [\"Rayquaza\"], [\"Jirachi\"], [\"Deoxys\"], [\"Uxie\"], [\"Mesprit\"], [\"Azelf\"], [\"Dialga\"], [\"Palkia\"], [\"Heatran\"], [\"Regigigas\"], [\"Giratina\"], [\"Cresselia\"], [\"Manaphy\"], [\"Darkrai\"], [\"Shaymin\"], [\"Arceus\"], [\"Victini\"], [\"Cobalion\"], [\"Terrakion\"], [\"Virizion\"], [\"Tornadus\"], [\"Thundurus\"], [\"Reshiram\"], [\"Zekrom\"], [\"Landorus\"], [\"Kyurem\"], [\"Keldeo\"], [\"Meloetta\"], [\"Genesect\"], [\"Xerneas\"], [\"Yveltal\"], [\"Zygarde\"], [\"Diancie\"], [\"Hoopa\"], [\"Volcanion\"], [\"Tapu Koko\"], [\"Tapu Lele\"], [\"Tapu Bulu\"], [\"Tapu Fini\"], [\"Cosmog\"], [\"Cosmoem\"], [\"Solgaleo\"], [\"Lunala\"], [\"Nihilego\"], [\"Buzzwole\"], [\"Pheromosa\"], [\"Xurkitree\"], [\"Celesteela\"], [\"Kartana\"], [\"Guzzlord\"], [\"Necrozma\"], [\"Magearna\"]], \"hoverlabel\": {\"namelength\": 0}, \"hovertemplate\": \"IS_LEGENDARY=1<br>ATTACK=%{x}<br>NAME=%{customdata[0]}\", \"legendgroup\": \"IS_LEGENDARY=1\", \"marker\": {\"color\": \"#EF553B\"}, \"name\": \"IS_LEGENDARY=1\", \"notched\": true, \"offsetgroup\": \"IS_LEGENDARY=1\", \"showlegend\": false, \"type\": \"box\", \"x\": [85, 90, 100, 150, 100, 85, 115, 75, 90, 130, 100, 100, 50, 75, 100, 130, 150, 180, 180, 100, 95, 75, 105, 125, 120, 120, 90, 160, 120, 70, 100, 90, 103, 120, 100, 90, 129, 90, 100, 105, 120, 150, 145, 120, 72, 128, 120, 131, 131, 100, 160, 160, 110, 115, 85, 130, 75, 29, 29, 137, 113, 53, 139, 137, 89, 101, 181, 101, 107, 95], \"xaxis\": \"x2\", \"yaxis\": \"y2\"}],\n",
              "                        {\"barmode\": \"relative\", \"legend\": {\"tracegroupgap\": 0}, \"margin\": {\"t\": 60}, \"template\": {\"data\": {\"bar\": [{\"error_x\": {\"color\": \"#2a3f5f\"}, \"error_y\": {\"color\": \"#2a3f5f\"}, \"marker\": {\"line\": {\"color\": \"#E5ECF6\", \"width\": 0.5}}, \"type\": \"bar\"}], \"barpolar\": [{\"marker\": {\"line\": {\"color\": \"#E5ECF6\", \"width\": 0.5}}, \"type\": \"barpolar\"}], \"carpet\": [{\"aaxis\": {\"endlinecolor\": \"#2a3f5f\", \"gridcolor\": \"white\", \"linecolor\": \"white\", \"minorgridcolor\": \"white\", \"startlinecolor\": \"#2a3f5f\"}, \"baxis\": {\"endlinecolor\": \"#2a3f5f\", \"gridcolor\": \"white\", \"linecolor\": \"white\", \"minorgridcolor\": \"white\", \"startlinecolor\": \"#2a3f5f\"}, \"type\": \"carpet\"}], \"choropleth\": [{\"colorbar\": {\"outlinewidth\": 0, \"ticks\": \"\"}, \"type\": \"choropleth\"}], \"contour\": [{\"colorbar\": {\"outlinewidth\": 0, \"ticks\": \"\"}, \"colorscale\": [[0.0, \"#0d0887\"], [0.1111111111111111, \"#46039f\"], [0.2222222222222222, \"#7201a8\"], [0.3333333333333333, \"#9c179e\"], [0.4444444444444444, \"#bd3786\"], [0.5555555555555556, \"#d8576b\"], [0.6666666666666666, \"#ed7953\"], [0.7777777777777778, \"#fb9f3a\"], [0.8888888888888888, \"#fdca26\"], [1.0, \"#f0f921\"]], \"type\": \"contour\"}], \"contourcarpet\": [{\"colorbar\": {\"outlinewidth\": 0, \"ticks\": \"\"}, \"type\": \"contourcarpet\"}], \"heatmap\": [{\"colorbar\": {\"outlinewidth\": 0, \"ticks\": \"\"}, \"colorscale\": [[0.0, \"#0d0887\"], [0.1111111111111111, \"#46039f\"], [0.2222222222222222, \"#7201a8\"], [0.3333333333333333, \"#9c179e\"], [0.4444444444444444, \"#bd3786\"], [0.5555555555555556, \"#d8576b\"], [0.6666666666666666, \"#ed7953\"], [0.7777777777777778, \"#fb9f3a\"], [0.8888888888888888, \"#fdca26\"], [1.0, \"#f0f921\"]], \"type\": \"heatmap\"}], \"heatmapgl\": [{\"colorbar\": {\"outlinewidth\": 0, \"ticks\": \"\"}, \"colorscale\": [[0.0, \"#0d0887\"], [0.1111111111111111, \"#46039f\"], [0.2222222222222222, \"#7201a8\"], [0.3333333333333333, \"#9c179e\"], [0.4444444444444444, \"#bd3786\"], [0.5555555555555556, \"#d8576b\"], [0.6666666666666666, \"#ed7953\"], [0.7777777777777778, \"#fb9f3a\"], [0.8888888888888888, \"#fdca26\"], [1.0, \"#f0f921\"]], \"type\": \"heatmapgl\"}], \"histogram\": [{\"marker\": {\"colorbar\": {\"outlinewidth\": 0, \"ticks\": \"\"}}, \"type\": \"histogram\"}], \"histogram2d\": [{\"colorbar\": {\"outlinewidth\": 0, \"ticks\": \"\"}, \"colorscale\": [[0.0, \"#0d0887\"], [0.1111111111111111, \"#46039f\"], [0.2222222222222222, \"#7201a8\"], [0.3333333333333333, \"#9c179e\"], [0.4444444444444444, \"#bd3786\"], [0.5555555555555556, \"#d8576b\"], [0.6666666666666666, \"#ed7953\"], [0.7777777777777778, \"#fb9f3a\"], [0.8888888888888888, \"#fdca26\"], [1.0, \"#f0f921\"]], \"type\": \"histogram2d\"}], \"histogram2dcontour\": [{\"colorbar\": {\"outlinewidth\": 0, \"ticks\": \"\"}, \"colorscale\": [[0.0, \"#0d0887\"], [0.1111111111111111, \"#46039f\"], [0.2222222222222222, \"#7201a8\"], [0.3333333333333333, \"#9c179e\"], [0.4444444444444444, \"#bd3786\"], [0.5555555555555556, \"#d8576b\"], [0.6666666666666666, \"#ed7953\"], [0.7777777777777778, \"#fb9f3a\"], [0.8888888888888888, \"#fdca26\"], [1.0, \"#f0f921\"]], \"type\": \"histogram2dcontour\"}], \"mesh3d\": [{\"colorbar\": {\"outlinewidth\": 0, \"ticks\": \"\"}, \"type\": \"mesh3d\"}], \"parcoords\": [{\"line\": {\"colorbar\": {\"outlinewidth\": 0, \"ticks\": \"\"}}, \"type\": \"parcoords\"}], \"pie\": [{\"automargin\": true, \"type\": \"pie\"}], \"scatter\": [{\"marker\": {\"colorbar\": {\"outlinewidth\": 0, \"ticks\": \"\"}}, \"type\": \"scatter\"}], \"scatter3d\": [{\"line\": {\"colorbar\": {\"outlinewidth\": 0, \"ticks\": \"\"}}, \"marker\": {\"colorbar\": {\"outlinewidth\": 0, \"ticks\": \"\"}}, \"type\": \"scatter3d\"}], \"scattercarpet\": [{\"marker\": {\"colorbar\": {\"outlinewidth\": 0, \"ticks\": \"\"}}, \"type\": \"scattercarpet\"}], \"scattergeo\": [{\"marker\": {\"colorbar\": {\"outlinewidth\": 0, \"ticks\": \"\"}}, \"type\": \"scattergeo\"}], \"scattergl\": [{\"marker\": {\"colorbar\": {\"outlinewidth\": 0, \"ticks\": \"\"}}, \"type\": \"scattergl\"}], \"scattermapbox\": [{\"marker\": {\"colorbar\": {\"outlinewidth\": 0, \"ticks\": \"\"}}, \"type\": \"scattermapbox\"}], \"scatterpolar\": [{\"marker\": {\"colorbar\": {\"outlinewidth\": 0, \"ticks\": \"\"}}, \"type\": \"scatterpolar\"}], \"scatterpolargl\": [{\"marker\": {\"colorbar\": {\"outlinewidth\": 0, \"ticks\": \"\"}}, \"type\": \"scatterpolargl\"}], \"scatterternary\": [{\"marker\": {\"colorbar\": {\"outlinewidth\": 0, \"ticks\": \"\"}}, \"type\": \"scatterternary\"}], \"surface\": [{\"colorbar\": {\"outlinewidth\": 0, \"ticks\": \"\"}, \"colorscale\": [[0.0, \"#0d0887\"], [0.1111111111111111, \"#46039f\"], [0.2222222222222222, \"#7201a8\"], [0.3333333333333333, \"#9c179e\"], [0.4444444444444444, \"#bd3786\"], [0.5555555555555556, \"#d8576b\"], [0.6666666666666666, \"#ed7953\"], [0.7777777777777778, \"#fb9f3a\"], [0.8888888888888888, \"#fdca26\"], [1.0, \"#f0f921\"]], \"type\": \"surface\"}], \"table\": [{\"cells\": {\"fill\": {\"color\": \"#EBF0F8\"}, \"line\": {\"color\": \"white\"}}, \"header\": {\"fill\": {\"color\": \"#C8D4E3\"}, \"line\": {\"color\": \"white\"}}, \"type\": \"table\"}]}, \"layout\": {\"annotationdefaults\": {\"arrowcolor\": \"#2a3f5f\", \"arrowhead\": 0, \"arrowwidth\": 1}, \"coloraxis\": {\"colorbar\": {\"outlinewidth\": 0, \"ticks\": \"\"}}, \"colorscale\": {\"diverging\": [[0, \"#8e0152\"], [0.1, \"#c51b7d\"], [0.2, \"#de77ae\"], [0.3, \"#f1b6da\"], [0.4, \"#fde0ef\"], [0.5, \"#f7f7f7\"], [0.6, \"#e6f5d0\"], [0.7, \"#b8e186\"], [0.8, \"#7fbc41\"], [0.9, \"#4d9221\"], [1, \"#276419\"]], \"sequential\": [[0.0, \"#0d0887\"], [0.1111111111111111, \"#46039f\"], [0.2222222222222222, \"#7201a8\"], [0.3333333333333333, \"#9c179e\"], [0.4444444444444444, \"#bd3786\"], [0.5555555555555556, \"#d8576b\"], [0.6666666666666666, \"#ed7953\"], [0.7777777777777778, \"#fb9f3a\"], [0.8888888888888888, \"#fdca26\"], [1.0, \"#f0f921\"]], \"sequentialminus\": [[0.0, \"#0d0887\"], [0.1111111111111111, \"#46039f\"], [0.2222222222222222, \"#7201a8\"], [0.3333333333333333, \"#9c179e\"], [0.4444444444444444, \"#bd3786\"], [0.5555555555555556, \"#d8576b\"], [0.6666666666666666, \"#ed7953\"], [0.7777777777777778, \"#fb9f3a\"], [0.8888888888888888, \"#fdca26\"], [1.0, \"#f0f921\"]]}, \"colorway\": [\"#636efa\", \"#EF553B\", \"#00cc96\", \"#ab63fa\", \"#FFA15A\", \"#19d3f3\", \"#FF6692\", \"#B6E880\", \"#FF97FF\", \"#FECB52\"], \"font\": {\"color\": \"#2a3f5f\"}, \"geo\": {\"bgcolor\": \"white\", \"lakecolor\": \"white\", \"landcolor\": \"#E5ECF6\", \"showlakes\": true, \"showland\": true, \"subunitcolor\": \"white\"}, \"hoverlabel\": {\"align\": \"left\"}, \"hovermode\": \"closest\", \"mapbox\": {\"style\": \"light\"}, \"paper_bgcolor\": \"white\", \"plot_bgcolor\": \"#E5ECF6\", \"polar\": {\"angularaxis\": {\"gridcolor\": \"white\", \"linecolor\": \"white\", \"ticks\": \"\"}, \"bgcolor\": \"#E5ECF6\", \"radialaxis\": {\"gridcolor\": \"white\", \"linecolor\": \"white\", \"ticks\": \"\"}}, \"scene\": {\"xaxis\": {\"backgroundcolor\": \"#E5ECF6\", \"gridcolor\": \"white\", \"gridwidth\": 2, \"linecolor\": \"white\", \"showbackground\": true, \"ticks\": \"\", \"zerolinecolor\": \"white\"}, \"yaxis\": {\"backgroundcolor\": \"#E5ECF6\", \"gridcolor\": \"white\", \"gridwidth\": 2, \"linecolor\": \"white\", \"showbackground\": true, \"ticks\": \"\", \"zerolinecolor\": \"white\"}, \"zaxis\": {\"backgroundcolor\": \"#E5ECF6\", \"gridcolor\": \"white\", \"gridwidth\": 2, \"linecolor\": \"white\", \"showbackground\": true, \"ticks\": \"\", \"zerolinecolor\": \"white\"}}, \"shapedefaults\": {\"line\": {\"color\": \"#2a3f5f\"}}, \"ternary\": {\"aaxis\": {\"gridcolor\": \"white\", \"linecolor\": \"white\", \"ticks\": \"\"}, \"baxis\": {\"gridcolor\": \"white\", \"linecolor\": \"white\", \"ticks\": \"\"}, \"bgcolor\": \"#E5ECF6\", \"caxis\": {\"gridcolor\": \"white\", \"linecolor\": \"white\", \"ticks\": \"\"}}, \"title\": {\"x\": 0.05}, \"xaxis\": {\"automargin\": true, \"gridcolor\": \"white\", \"linecolor\": \"white\", \"ticks\": \"\", \"title\": {\"standoff\": 15}, \"zerolinecolor\": \"white\", \"zerolinewidth\": 2}, \"yaxis\": {\"automargin\": true, \"gridcolor\": \"white\", \"linecolor\": \"white\", \"ticks\": \"\", \"title\": {\"standoff\": 15}, \"zerolinecolor\": \"white\", \"zerolinewidth\": 2}}}, \"xaxis\": {\"anchor\": \"y\", \"domain\": [0.0, 1.0], \"title\": {\"text\": \"ATTACK\"}}, \"xaxis2\": {\"anchor\": \"y2\", \"domain\": [0.0, 1.0], \"matches\": \"x\", \"showgrid\": true, \"showticklabels\": false}, \"yaxis\": {\"anchor\": \"x\", \"domain\": [0.0, 0.7326], \"title\": {\"text\": \"count of DEFENSE\"}}, \"yaxis2\": {\"anchor\": \"x2\", \"domain\": [0.7426, 1.0], \"matches\": \"y2\", \"showgrid\": false, \"showline\": false, \"showticklabels\": false, \"ticks\": \"\"}},\n",
              "                        {\"responsive\": true}\n",
              "                    ).then(function(){\n",
              "                            \n",
              "var gd = document.getElementById('d6978b11-5dec-4d71-ace0-6d31e9256e95');\n",
              "var x = new MutationObserver(function (mutations, observer) {{\n",
              "        var display = window.getComputedStyle(gd).display;\n",
              "        if (!display || display === 'none') {{\n",
              "            console.log([gd, 'removed!']);\n",
              "            Plotly.purge(gd);\n",
              "            observer.disconnect();\n",
              "        }}\n",
              "}});\n",
              "\n",
              "// Listen for the removal of the full notebook cells\n",
              "var notebookContainer = gd.closest('#notebook-container');\n",
              "if (notebookContainer) {{\n",
              "    x.observe(notebookContainer, {childList: true});\n",
              "}}\n",
              "\n",
              "// Listen for the clearing of the current output cell\n",
              "var outputEl = gd.closest('.output');\n",
              "if (outputEl) {{\n",
              "    x.observe(outputEl, {childList: true});\n",
              "}}\n",
              "\n",
              "                        })\n",
              "                };\n",
              "                \n",
              "            </script>\n",
              "        </div>\n",
              "</body>\n",
              "</html>"
            ]
          },
          "metadata": {
            "tags": []
          }
        }
      ]
    }
  ]
}